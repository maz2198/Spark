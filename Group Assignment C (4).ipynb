{
 "cells": [
  {
   "cell_type": "markdown",
   "metadata": {},
   "source": [
    "# Group Assigment: C"
   ]
  },
  {
   "cell_type": "code",
   "execution_count": 2,
   "metadata": {},
   "outputs": [],
   "source": [
    "import findspark\n",
    "findspark.init()"
   ]
  },
  {
   "cell_type": "code",
   "execution_count": 3,
   "metadata": {},
   "outputs": [
    {
     "data": {
      "text/plain": [
       "'C:\\\\spark-2.4.4-bin-hadoop2.7'"
      ]
     },
     "execution_count": 3,
     "metadata": {},
     "output_type": "execute_result"
    }
   ],
   "source": [
    "findspark.find()\n",
    "import pyspark\n",
    "findspark.find()"
   ]
  },
  {
   "cell_type": "code",
   "execution_count": 4,
   "metadata": {},
   "outputs": [],
   "source": [
    "from pyspark import SparkContext, SparkConf\n",
    "from pyspark.sql import SparkSession\n",
    "\n",
    "conf = pyspark.SparkConf().setAppName('appName').setMaster('local[4]')\n",
    "sc = pyspark.SparkContext(conf=conf)\n",
    "spark = SparkSession(sc)"
   ]
  },
  {
   "cell_type": "markdown",
   "metadata": {},
   "source": [
    "## Introduction to the Flights dataset"
   ]
  },
  {
   "cell_type": "markdown",
   "metadata": {},
   "source": [
    "According to a 2010 report made by the US Federal Aviation Administration, the economic price of domestic flight delays entails a yearly cost of 32.9 billion dollars to passengers, airlines and other parts of the economy. More than half of that amount comes from passengers' pockets, as they do not only waste time waiting for their planes to leave, but also miss connecting flights, spend money on food and have to sleep on hotel rooms while they're stranded.\n",
    "\n",
    "The report, focusing on data from year 2007, estimated that air transportation delays put a 4 billion dollar dent in the country's gross domestic product that year. Full report can be found \n",
    "<a href=\"http://www.isr.umd.edu/NEXTOR/pubs/TDI_Report_Final_10_18_10_V3.pdf\">here</a>.\n",
    "\n",
    "But which are the causes for these delays?\n",
    "\n",
    "In order to answer this question, we are going to analyze the provided dataset, containing up to 1.936.758 different internal flights in the US for 2008 and their causes for delay, diversion and cancellation; if any.\n",
    "\n",
    "The data comes from the U.S. Department of Transportation's (DOT) Bureau of Transportation Statistics (BTS)\n",
    "\n",
    "This dataset is composed by the following variables:\n",
    "1. **Year** 2008\n",
    "2. **Month** 1\n",
    "3. **DayofMonth** 1-31\n",
    "4. **DayOfWeek** 1 (Monday) - 7 (Sunday)\n",
    "5. **DepTime** actual departure time (local, hhmm)\n",
    "6. **CRSDepTime** scheduled departure time (local, hhmm)\n",
    "7. **ArrTime** actual arrival time (local, hhmm)\n",
    "8. **CRSArrTime** scheduled arrival time (local, hhmm)\n",
    "9. **UniqueCarrie**r unique carrier code\n",
    "10. **FlightNum** flight number\n",
    "11. **TailNum** plane tail number: aircraft registration, unique aircraft identifier\n",
    "12. **ActualElapsedTime** in minutes\n",
    "13. **CRSElapsedTime** in minutes\n",
    "14. **AirTime** in minutes\n",
    "15. **ArrDelay** arrival delay, in minutes: A flight is counted as \"on time\" if it operated less than 15 minutes later the scheduled time shown in the carriers' Computerized Reservations Systems (CRS).\n",
    "16. **DepDelay** departure delay, in minutes\n",
    "17. **Origin** origin IATA airport code\n",
    "18. **Dest** destination IATA airport code\n",
    "19. **Distance** in miles\n",
    "20. **TaxiIn** taxi in time, in minutes\n",
    "21. **TaxiOut** taxi out time in minutes\n",
    "22. **Cancelled** *was the flight cancelled\n",
    "23. **CancellationCode** reason for cancellation (A = carrier, B = weather, C = NAS, D = security)\n",
    "24. **Diverted** 1 = yes, 0 = no\n",
    "25. **CarrierDelay** in minutes: Carrier delay is within the control of the air carrier. Examples of occurrences that may determine carrier delay are: aircraft cleaning, aircraft damage, awaiting the arrival of connecting passengers or crew, baggage, bird strike, cargo loading, catering, computer, outage-carrier equipment, crew legality (pilot or attendant rest), damage by hazardous goods, engineering inspection, fueling, handling disabled passengers, late crew, lavatory servicing, maintenance, oversales, potable water servicing, removal of unruly passenger, slow boarding or seating, stowing carry-on baggage, weight and balance delays.\n",
    "26. **WeatherDelay** in minutes: Weather delay is caused by extreme or hazardous weather conditions that are forecasted or manifest themselves on point of departure, enroute, or on point of arrival.\n",
    "27. **NASDelay** in minutes: Delay that is within the control of the National Airspace System (NAS) may include: non-extreme weather conditions, airport operations, heavy traffic volume, air traffic control, etc.\n",
    "28. **SecurityDelay** in minutes: Security delay is caused by evacuation of a terminal or concourse, re-boarding of aircraft because of security breach, inoperative screening equipment and/or long lines in excess of 29 minutes at screening areas.\n",
    "29. **LateAircraftDelay** in minutes: Arrival delay at an airport due to the late arrival of the same aircraft at a previous airport. The ripple effect of an earlier delay at downstream airports is referred to as delay propagation"
   ]
  },
  {
   "cell_type": "markdown",
   "metadata": {},
   "source": [
    "Read the CSV file using Spark's default delimiter (\",\"). The first line contains the headers so it is not part of the data. Hence we set the header option to true."
   ]
  },
  {
   "cell_type": "code",
   "execution_count": 6,
   "metadata": {},
   "outputs": [],
   "source": [
    "# This does nothing: Spark is lazy so the read operation will be deferred until an action is executed\n",
    "flightsDF = spark.read.option(\"header\", \"true\").csv(\"flights_jan08.csv\")"
   ]
  },
  {
   "cell_type": "markdown",
   "metadata": {},
   "source": [
    "## Your topic: Arrival Delay related to the morphology of the arrival airport"
   ]
  },
  {
   "cell_type": "markdown",
   "metadata": {},
   "source": [
    "We want to check what happens in each of the cities, and if there is a relation between the city and the delay that goes beyond the airports. For that purpose, **you have to get a small dataset with features of the airport**, such as the number of terminals, the year when it was built, the average length of the arriving runway, the number of runways it has, and so on. No need for a lot of features, just 4 or 5 are fine. Once you have it, answer the following questions:\n",
    "\n",
    "* Is there a relation between the year it was built and the number of flights arriving to it?\n",
    "* Are modern airports located mostly in large cities or not necessarily?\n",
    "* Do airports with more terminals have larger delays, or is the opposite true? What about the runways?\n",
    "* Is there any threshold in the average arriving flights per terminal, so that above that value the delays tend to increase a lot?\n",
    "* Discretize the arrival delay as in the reference notebook, and relate it to the average number of arriving flights per runway. Is there a relation? Support your conclusions with data."
   ]
  },
  {
   "cell_type": "code",
   "execution_count": null,
   "metadata": {},
   "outputs": [],
   "source": []
  }
 ],
 "metadata": {
  "kernelspec": {
   "display_name": "Python 3",
   "language": "python",
   "name": "python3"
  },
  "language_info": {
   "codemirror_mode": {
    "name": "ipython",
    "version": 3
   },
   "file_extension": ".py",
   "mimetype": "text/x-python",
   "name": "python",
   "nbconvert_exporter": "python",
   "pygments_lexer": "ipython3",
   "version": "3.7.4"
  }
 },
 "nbformat": 4,
 "nbformat_minor": 2
}
