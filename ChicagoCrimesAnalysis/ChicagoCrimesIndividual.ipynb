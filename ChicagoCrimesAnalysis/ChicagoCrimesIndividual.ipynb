{
 "cells": [
  {
   "cell_type": "markdown",
   "metadata": {},
   "source": [
    "# Chicago Crimes Analysis (2014 - 2016)\n",
    "\n",
    "Chicago Crimes analysis is going to be performed as follows:\n",
    "\n",
    "1. PySpark **environment setup**\n",
    "2. Data source and **Spark data abstraction** (DataFrame) **set up**\n",
    "3. Data set **metadata analysis**:\n",
    "  1. Display **schema and size** of the DataFrame\n",
    "  2. Enrichment of datasets: Ancillary Datasets \n",
    "  3. Get one or multiple **random samples** \n",
    "  4. Table Joins\n",
    "  5. Identify **data entities**, **metrics** and **dimensions**\n",
    "  6. **Columns/fields categorization**\n",
    "4. Columns groups **basic profiling** to better understand our data set:\n",
    "  1. **Timing related** columns basic profiling\n",
    "  2. **Location related** columns basic profiling\n",
    "  3. **Crime related** columns basic profiling\n",
    "  4. **Socio-economic related** columns basic profiling\n",
    "5. **Business Solutions to business questions** \n",
    "  1. **Time of day:** Violent and Non-violent crimes\n",
    "  2. **Areas of Chicago:** Violent and Non-violent crimes\n",
    "  3. **Domestic Violence Cases:** Conviction Rates\n",
    "  4. **Seasonality of robberies:**\n",
    "  5. **Profile of Domestic Violence affected community**\n",
    "\n",
    "\n",
    "\n",
    "## 1. PySpark environment setup"
   ]
  },
  {
   "cell_type": "code",
   "execution_count": 1,
   "metadata": {},
   "outputs": [],
   "source": [
    "import findspark\n",
    "findspark.init()\n",
    "\n",
    "from pyspark.context import SparkContext\n",
    "from pyspark.sql.session import SparkSession\n",
    "\n",
    "sc = SparkContext.getOrCreate()\n",
    "spark = SparkSession(sc)"
   ]
  },
  {
   "cell_type": "markdown",
   "metadata": {},
   "source": [
    "## 2. Data Source and Spark Data Abstraction (DataFrame) Setup"
   ]
  },
  {
   "cell_type": "code",
   "execution_count": 2,
   "metadata": {},
   "outputs": [],
   "source": [
    "crimesDF = spark.read \\\n",
    "                 .format(\"csv\") \\\n",
    "                 .option(\"mode\",\"FAILFAST\") \\\n",
    "                 .option(\"inferSchema\", \"true\") \\\n",
    "                 .option(\"header\", \"true\") \\\n",
    "                 .load(\"../Assignment1/*.csv\")"
   ]
  },
  {
   "cell_type": "markdown",
   "metadata": {},
   "source": [
    "## 3. DataSet Metadata Analysis\n",
    "### A. Display Schema & Size of the DataFrame"
   ]
  },
  {
   "cell_type": "code",
   "execution_count": 3,
   "metadata": {},
   "outputs": [
    {
     "name": "stdout",
     "output_type": "stream",
     "text": [
      "root\n",
      " |-- _c0: integer (nullable = true)\n",
      " |-- id: integer (nullable = true)\n",
      " |-- case_number: string (nullable = true)\n",
      " |-- date: timestamp (nullable = true)\n",
      " |-- year: integer (nullable = true)\n",
      " |-- month: integer (nullable = true)\n",
      " |-- day: integer (nullable = true)\n",
      " |-- dow: integer (nullable = true)\n",
      " |-- hour: integer (nullable = true)\n",
      " |-- block: string (nullable = true)\n",
      " |-- iucr: string (nullable = true)\n",
      " |-- primary_type: string (nullable = true)\n",
      " |-- description: string (nullable = true)\n",
      " |-- location_description: string (nullable = true)\n",
      " |-- arrest: boolean (nullable = true)\n",
      " |-- domestic: boolean (nullable = true)\n",
      " |-- beat: integer (nullable = true)\n",
      " |-- district: integer (nullable = true)\n",
      " |-- ward: string (nullable = true)\n",
      " |-- community_area: string (nullable = true)\n",
      " |-- fbi_code: string (nullable = true)\n",
      " |-- latitude: string (nullable = true)\n",
      " |-- longitude: string (nullable = true)\n",
      "\n"
     ]
    },
    {
     "data": {
      "text/markdown": [
       "This DataFrame has **754541 rows**."
      ],
      "text/plain": [
       "<IPython.core.display.Markdown object>"
      ]
     },
     "metadata": {},
     "output_type": "display_data"
    }
   ],
   "source": [
    "from IPython.display import display, Markdown\n",
    "\n",
    "crimesDF.printSchema()\n",
    "display(Markdown(\"This DataFrame has **%d rows**.\" % crimesDF.count()))"
   ]
  },
  {
   "cell_type": "markdown",
   "metadata": {},
   "source": [
    "### B. Enrichment of data: Ancillary Datasets\n",
    "#### IUCR code\n",
    "The crimes may be based upon preliminary information supplied to the Police Department by the reporting parties that have not been verified. As a result, the preliminary crime classifications may later change based upon an additional investigation and leading to more data entry errors. These codes are also used to aggregate types of cases for statistical purposes. In Illinois, the Illinois State Police establish IUCR codes, but the agencies can add codes to suit their individual need [1].\n",
    "- The CPD currently uses more than 350 IUCR codes to classify criminal offenses, divided into “Index” and “Non-Index” offenses.\n",
    "- Index offenses are the offenses that are collected nation-wide by the Federal Bureaus of Investigation’s Uniform Crime Reports program to document crime trends over time (data released semi-annually), and include murder, criminal sexual assault, robbery, aggravated assault & battery, burglary, theft, motor vehicle theft, and arson [1].\n",
    "- Non-index offenses are all other types of criminal incidents, including vandalism, weapons violations, public peace violations, etc.\n",
    "\n",
    "To provide the index code, this dataset will be loaded to enrich the final crimes table to gain further insights."
   ]
  },
  {
   "cell_type": "code",
   "execution_count": 4,
   "metadata": {},
   "outputs": [],
   "source": [
    "iucrDF = spark.read \\\n",
    "                 .format(\"csv\") \\\n",
    "                 .option(\"mode\",\"FAILFAST\") \\\n",
    "                 .option(\"inferSchema\", \"true\") \\\n",
    "                 .option(\"header\", \"true\") \\\n",
    "                 .load(\"../AncillaryDatasets/*.csv\")"
   ]
  },
  {
   "cell_type": "code",
   "execution_count": 5,
   "metadata": {},
   "outputs": [
    {
     "name": "stdout",
     "output_type": "stream",
     "text": [
      "root\n",
      " |-- iucr: string (nullable = true)\n",
      " |-- index_code: string (nullable = true)\n",
      "\n"
     ]
    },
    {
     "data": {
      "text/markdown": [
       "This DataFrame has **401 rows**."
      ],
      "text/plain": [
       "<IPython.core.display.Markdown object>"
      ]
     },
     "metadata": {},
     "output_type": "display_data"
    }
   ],
   "source": [
    "iucrDF.printSchema()\n",
    "display(Markdown(\"This DataFrame has **%d rows**.\" % iucrDF.count()))"
   ]
  },
  {
   "cell_type": "code",
   "execution_count": 6,
   "metadata": {},
   "outputs": [],
   "source": [
    "from pyspark.sql.functions import when, count, col, countDistinct, desc, first, lit"
   ]
  },
  {
   "cell_type": "markdown",
   "metadata": {},
   "source": [
    "#### Police District Names\n",
    "In the crimes dataframe, *districts* variables indicates the police district number where the incident occurred. Although the police district number is, incorporating the police district name will provide further context necessary for analysis. There are 22 police districts, each district has police name and were obtained from __[City of Chicago Data Portal](https://www.chicago.gov/city/en/depts/cpd/dataset/police_stations.html)__."
   ]
  },
  {
   "cell_type": "code",
   "execution_count": 7,
   "metadata": {},
   "outputs": [],
   "source": [
    "districtNameDf = spark.read \\\n",
    "                 .format(\"csv\") \\\n",
    "                 .option(\"mode\",\"FAILFAST\") \\\n",
    "                 .option(\"inferSchema\", \"true\") \\\n",
    "                 .option(\"header\", \"true\") \\\n",
    "                 .load(\"../PoliceStations/*.csv\")"
   ]
  },
  {
   "cell_type": "code",
   "execution_count": 8,
   "metadata": {},
   "outputs": [
    {
     "name": "stdout",
     "output_type": "stream",
     "text": [
      "root\n",
      " |-- district: string (nullable = true)\n",
      " |-- districtName: string (nullable = true)\n",
      " |-- _c2: string (nullable = true)\n",
      "\n"
     ]
    },
    {
     "data": {
      "text/markdown": [
       "This DataFrame has **23 rows**."
      ],
      "text/plain": [
       "<IPython.core.display.Markdown object>"
      ]
     },
     "metadata": {},
     "output_type": "display_data"
    }
   ],
   "source": [
    "districtNameDf.printSchema()\n",
    "display(Markdown(\"This DataFrame has **%d rows**.\" % districtNameDf.count()))"
   ]
  },
  {
   "cell_type": "markdown",
   "metadata": {},
   "source": [
    "The *_c2* id variable is removed as it is not pertinent for the analysis."
   ]
  },
  {
   "cell_type": "code",
   "execution_count": 9,
   "metadata": {},
   "outputs": [
    {
     "name": "stdout",
     "output_type": "stream",
     "text": [
      "+--------+------------+\n",
      "|district|districtName|\n",
      "+--------+------------+\n",
      "|       1|     Central|\n",
      "+--------+------------+\n",
      "only showing top 1 row\n",
      "\n",
      "+------------+\n",
      "|    district|\n",
      "+------------+\n",
      "|           7|\n",
      "|          15|\n",
      "|          11|\n",
      "|           3|\n",
      "|           8|\n",
      "|          22|\n",
      "|          16|\n",
      "|           5|\n",
      "|          18|\n",
      "|          17|\n",
      "|           6|\n",
      "|          19|\n",
      "|          25|\n",
      "|Headquarters|\n",
      "|          24|\n",
      "|           9|\n",
      "|           1|\n",
      "|          20|\n",
      "|          10|\n",
      "|           4|\n",
      "+------------+\n",
      "only showing top 20 rows\n",
      "\n"
     ]
    }
   ],
   "source": [
    "districtNameDf.drop('_c2').show(1)\n",
    "districtNameDf.select(col(\"district\")).distinct().show()"
   ]
  },
  {
   "cell_type": "markdown",
   "metadata": {},
   "source": [
    "#### Community Area: Names\n",
    "In the crimes dataset, *community_area* indicates the community area where the incident occurred. Chicago has 77 community areas and the names of each community area which were obtained from __[Census Data by Community Area](http://www.actforchildren.org/wp-content/uploads/2018/01/Census-Data-by-Chicago-Community-Area-2017.pdf)__ will be incorporated to dataset to provide further context necessary for analysis. Moreover, the locational regions (*Northside*, *South side* etc.) are constituted of these community areas. These will also be enriched in the final dataframe."
   ]
  },
  {
   "cell_type": "code",
   "execution_count": 11,
   "metadata": {},
   "outputs": [
    {
     "name": "stdout",
     "output_type": "stream",
     "text": [
      "+--------------+-----------------+-----------------+\n",
      "|community_area|communityAreaName|communityAreaSide|\n",
      "+--------------+-----------------+-----------------+\n",
      "|1             |Rogers Park      |Far North side   |\n",
      "|2             |West Ridge       |Far North side   |\n",
      "|3             |Uptown           |Far North side   |\n",
      "|4             |Lincoln Square   |Far North side   |\n",
      "|5             |North Center     |North side       |\n",
      "|6             |Lake View        |North side       |\n",
      "|7             |Lincoln Park     |North side       |\n",
      "|8             |Near North Side  |Central          |\n",
      "|9             |Edison Park      |Far North side   |\n",
      "|10            |Norwood Park     |Far North side   |\n",
      "|11            |Jefferson Park   |Far North side   |\n",
      "|12            |Forest Glen      |Far North side   |\n",
      "|13            |North Park       |Far North side   |\n",
      "|14            |Albany Park      |Far North side   |\n",
      "|15            |Portage Park     |Northwest side   |\n",
      "|16            |Irving Park      |Northwest side   |\n",
      "|17            |Dunning          |Northwest side   |\n",
      "|18            |Montclare        |Northwest side   |\n",
      "|19            |Belmont Cragin   |Northwest side   |\n",
      "|20            |Hermosa          |Northwest side   |\n",
      "+--------------+-----------------+-----------------+\n",
      "only showing top 20 rows\n",
      "\n"
     ]
    }
   ],
   "source": [
    "from pyspark.sql import Row\n",
    "from pyspark.sql.types import StructType, StructField, IntegerType, DoubleType, StringType\n",
    "\n",
    "comms = [ Row(1, \"Rogers Park\",\"Far North side\"),Row(2, \"West Ridge\",\"Far North side\"),Row(3, \"Uptown\",\"Far North side\"),Row(4, \"Lincoln Square\",\"Far North side\"),\n",
    "               Row(5, \"North Center\",\"North side\"),Row(6, \"Lake View\",\"North side\"),Row(7, \"Lincoln Park\",\"North side\"),Row(8, \"Near North Side\",\"Central\"),\n",
    "               Row(9, \"Edison Park\",\"Far North side\"),Row(10, \"Norwood Park\",\"Far North side\"),Row(11, \"Jefferson Park\",\"Far North side\"),Row(12, \"Forest Glen\",\"Far North side\"),\n",
    "               Row(13, \"North Park\",\"Far North side\"),Row(14, \"Albany Park\",\"Far North side\"),Row(15, \"Portage Park\",\"Northwest side\"),Row(16, \"Irving Park\",\"Northwest side\"),\n",
    "               Row(17, \"Dunning\",\"Northwest side\"),Row(18, \"Montclare\",\"Northwest side\"),Row(19, \"Belmont Cragin\",\"Northwest side\"),Row(20, \"Hermosa\",\"Northwest side\"),\n",
    "               Row(21, \"Avondale\",\"North side\"),Row(22, \"Logan Square\",\"North side\"),Row(23, \"Humboldt Park\", \"West side\"),Row(24, \"West Town\",\"West side\"),\n",
    "               Row(25, \"Austin\",\"West side\"),Row(26, \"West Garfield Park\",\"West side\"),Row(27, \"East Garfield Park\",\"West side\"),Row(28, \"Near West Side\",\"West side\"),\n",
    "               Row(29, \"North Lawndale\",\"West side\"),Row(30, \"South Lawndale\",\"West side\"),Row(31, \"Lower West Side\",\"West side\"),Row(32, \"Loop\",\"Central\"),\n",
    "               Row(33, \"Near South Side\",\"Central\"),Row(34, \"Armour Square\",\"South side\"),Row(35, \"Douglas\",\"South side\"),Row(36, \"Oakland\",\"South side\"),\n",
    "               Row(37, \"Fuller Park\",\"South side\"),Row(38, \"Grand Boulevard\",\"South side\"),Row(39, \"Kenwood\",\"South side\"),Row(40, \"Washington Park\",\"South side\"),\n",
    "               Row(41, \"Hyde Park\",\"South side\"),Row(42, \"Woodlawn\",\"South side\"),Row(43, \"South Shore\",\"South side\"),Row(44, \"Chatham\",\"Far Southeast side\"),\n",
    "               Row(45, \"Avalon Park\",\"Far Southeast side\"),Row(46, \"South Chicago\",\"Far Southeast side\"),Row(47, \"Burnside\",\"Far Southeast side\"),Row(48, \"Calumet Heights\",\"Far Southeast side\"),\n",
    "               Row(49, \"Roseland\",\"Far Southeast side\"),Row(50, \"Pullman\",\"Far Southeast side\"),Row(51, \"South Deering\",\"Far Southeast side\"),Row(52, \"East Side\",\"Far Southeast side\"),\n",
    "               Row(53, \"West Pullman\",\"Far Southeast side\"),Row(54, \"Riverdale\",\"Far Southeast side\"),Row(55, \"Hegewisch\",\"Far Southeast side\"),Row(56, \"Garfield Ridge\",\"Southwest side\"),\n",
    "               Row(57, \"Archer Heights\",\"Southwest side\"),Row(58, \"Brighton Park\",\"Southwest side\"),Row(59, \"McKinley Park\",\"Southwest side\"),Row(60, \"Bridgeport\",\"South side\"),\n",
    "               Row(61, \"New City\",\"Southwest side\"),Row(62, \"West Elsdon\",\"Southwest side\"),Row(63, \"Gage Park\",\"Southwest side\"),Row(64, \"Clearing\",\"Southwest side\"),\n",
    "               Row(65, \"West Lawn\",\"Southwest side\"),Row(66, \"Chicago Lawn\",\"Southwest side\"),Row(67, \"West Englewood\",\"Southwest side\"),Row(68, \"Englewood\",\"Southwest side\"),\n",
    "               Row(69, \"Greater Grand Crossing\",\"South side\"),Row(70, \"Ashburn\",\"Far Southwest side\"),Row(71, \"Auburn Gresham\",\"Far Southwest side\"),Row(72, \"Beverly\",\"Far Southwest side\"),\n",
    "               Row(73, \"Washington Heights\",\"Far Southwest side\"),Row(74, \"Mount Greenwood\",\"Far Southwest side\"),Row(75, \"Morgan Park\",\"Far Southwest side\"),Row(76, \"O'Hare\",\"Far North side\"),\n",
    "               Row(77, \"Edgewater\",\"Far North side\")]\n",
    "commsSchema = StructType([ StructField(\"community_area\", IntegerType(), False),\n",
    "                                StructField(\"communityAreaName\", StringType(), True),\n",
    "                          StructField(\"communityAreaSide\", StringType(), True)])\n",
    "commsDf = spark.createDataFrame(comms, commsSchema)\n",
    "commsDf.show(truncate=False)"
   ]
  },
  {
   "cell_type": "markdown",
   "metadata": {},
   "source": [
    "### Community Area Statistics\n",
    "To gain better profiles of the Chicago constituents who may be affected by the crime, general socio-economic factors including **Poverty Level**, **unemployment**, **no High School Diploma** and **per Capita Income** will be considered for the period between 2014 - 2016. Information was obtained from __[Public health Data by Community Area](https://data.cityofchicago.org/Health-Human-Services/Public-Health-Statistics-Selected-public-health-in/iqnk-2tcu/data)__ portal. Note it is the average over the three-year period."
   ]
  },
  {
   "cell_type": "code",
   "execution_count": 12,
   "metadata": {},
   "outputs": [],
   "source": [
    "genDF = spark.read \\\n",
    "                 .format(\"csv\") \\\n",
    "                 .option(\"mode\",\"FAILFAST\") \\\n",
    "                 .option(\"inferSchema\", \"true\") \\\n",
    "                 .option(\"header\", \"true\") \\\n",
    "                 .load(\"../GenStats/*.csv\")"
   ]
  },
  {
   "cell_type": "code",
   "execution_count": 13,
   "metadata": {},
   "outputs": [
    {
     "name": "stdout",
     "output_type": "stream",
     "text": [
      "root\n",
      " |-- community_area: integer (nullable = true)\n",
      " |-- belowPovertyLevel: double (nullable = true)\n",
      " |-- crowdedHousing: double (nullable = true)\n",
      " |-- noHighSchoolDiploma: double (nullable = true)\n",
      " |-- perCapitaIncome: integer (nullable = true)\n",
      " |-- unemployment: double (nullable = true)\n",
      "\n"
     ]
    },
    {
     "data": {
      "text/markdown": [
       "This DataFrame has **77 rows**."
      ],
      "text/plain": [
       "<IPython.core.display.Markdown object>"
      ]
     },
     "metadata": {},
     "output_type": "display_data"
    }
   ],
   "source": [
    "genDF.printSchema()\n",
    "display(Markdown(\"This DataFrame has **%d rows**.\" % genDF.count()))"
   ]
  },
  {
   "cell_type": "markdown",
   "metadata": {},
   "source": [
    "## C. Get one or multiple **random samples**"
   ]
  },
  {
   "cell_type": "code",
   "execution_count": 14,
   "metadata": {},
   "outputs": [
    {
     "data": {
      "text/plain": [
       "[Row(_c0=3, id=9446758, case_number='HX100030', date=datetime.datetime(2014, 1, 1, 0, 30), year=2014, month=1, day=1, dow=4, hour=0, block='052XX W RACE AVE', iucr='1310', primary_type='CRIMINAL DAMAGE', description='TO PROPERTY', location_description='APARTMENT', arrest=False, domestic=False, beat=1523, district=15, ward='28', community_area='25', fbi_code='14', latitude='41.890046233', longitude='-87.756333158'),\n",
       " Row(_c0=9, id=9446770, case_number='HX100039', date=datetime.datetime(2014, 1, 1, 0, 30), year=2014, month=1, day=1, dow=4, hour=0, block='002XX S LOCKWOOD AVE', iucr='1811', primary_type='NARCOTICS', description='POSS: CANNABIS 30GMS OR LESS', location_description='STREET', arrest=True, domestic=False, beat=1522, district=15, ward='29', community_area='25', fbi_code='18', latitude='41.87786538', longitude='-87.757599414')]"
      ]
     },
     "execution_count": 14,
     "metadata": {},
     "output_type": "execute_result"
    }
   ],
   "source": [
    "crimesDF.cache() # optimization to make the processing faster\n",
    "crimesDF.sample(False, 0.1).take(2)"
   ]
  },
  {
   "cell_type": "code",
   "execution_count": 15,
   "metadata": {},
   "outputs": [
    {
     "name": "stdout",
     "output_type": "stream",
     "text": [
      "+---------------------------------+\n",
      "|primary_type                     |\n",
      "+---------------------------------+\n",
      "|OFFENSE INVOLVING CHILDREN       |\n",
      "|STALKING                         |\n",
      "|PUBLIC PEACE VIOLATION           |\n",
      "|OBSCENITY                        |\n",
      "|NON-CRIMINAL (SUBJECT SPECIFIED) |\n",
      "|ARSON                            |\n",
      "|GAMBLING                         |\n",
      "|CRIMINAL TRESPASS                |\n",
      "|ASSAULT                          |\n",
      "|NON - CRIMINAL                   |\n",
      "|LIQUOR LAW VIOLATION             |\n",
      "|MOTOR VEHICLE THEFT              |\n",
      "|THEFT                            |\n",
      "|BATTERY                          |\n",
      "|ROBBERY                          |\n",
      "|HOMICIDE                         |\n",
      "|PUBLIC INDECENCY                 |\n",
      "|CRIM SEXUAL ASSAULT              |\n",
      "|HUMAN TRAFFICKING                |\n",
      "|INTIMIDATION                     |\n",
      "|PROSTITUTION                     |\n",
      "|DECEPTIVE PRACTICE               |\n",
      "|CONCEALED CARRY LICENSE VIOLATION|\n",
      "|SEX OFFENSE                      |\n",
      "|CRIMINAL DAMAGE                  |\n",
      "|NARCOTICS                        |\n",
      "|NON-CRIMINAL                     |\n",
      "|OTHER OFFENSE                    |\n",
      "|KIDNAPPING                       |\n",
      "|BURGLARY                         |\n",
      "|WEAPONS VIOLATION                |\n",
      "|OTHER NARCOTIC VIOLATION         |\n",
      "|INTERFERENCE WITH PUBLIC OFFICER |\n",
      "+---------------------------------+\n",
      "\n"
     ]
    }
   ],
   "source": [
    "crimesDF.select(col(\"primary_type\")).distinct().show(33,truncate=False)"
   ]
  },
  {
   "cell_type": "markdown",
   "metadata": {},
   "source": [
    "It can be seen that there are multiple entries of the **NON-CRIMINAL** *(e.g \"NON - CRIMINAL\")* primary type of crime. Care will be taken to deal with these issues for further analysis"
   ]
  },
  {
   "cell_type": "markdown",
   "metadata": {},
   "source": [
    "## D. Table Joins\n",
    "Ancillary data is available to enrich the original dataframe with information which may improve the understanding of the generated results. \n",
    "### Chicago Police Dept\n",
    "Below we are enriching the police district number with the police district names: i.e. the chicago police department's full name with an inner join."
   ]
  },
  {
   "cell_type": "code",
   "execution_count": 15,
   "metadata": {},
   "outputs": [],
   "source": [
    "combinedDistrictDf = crimesDF\\\n",
    "                        .join(districtNameDf,\"district\",'inner')"
   ]
  },
  {
   "cell_type": "code",
   "execution_count": 16,
   "metadata": {},
   "outputs": [
    {
     "data": {
      "text/plain": [
       "DataFrame[district: int, _c0: int, id: int, case_number: string, date: timestamp, year: int, month: int, day: int, dow: int, hour: int, block: string, iucr: string, primary_type: string, description: string, location_description: string, arrest: boolean, domestic: boolean, beat: int, ward: string, community_area: string, fbi_code: string, latitude: string, longitude: string, districtName: string, _c2: string]"
      ]
     },
     "execution_count": 16,
     "metadata": {},
     "output_type": "execute_result"
    }
   ],
   "source": [
    "# To ensure that the join occurred\n",
    "combinedDistrictDf "
   ]
  },
  {
   "cell_type": "markdown",
   "metadata": {},
   "source": [
    "### Community Area Names\n",
    "With an inner join, we enrich the dataframe with community area name and commmunity side."
   ]
  },
  {
   "cell_type": "code",
   "execution_count": 17,
   "metadata": {},
   "outputs": [],
   "source": [
    "combinedCommAreaDf = combinedDistrictDf\\\n",
    "                        .join(commsDf,\"community_area\",'inner')"
   ]
  },
  {
   "cell_type": "code",
   "execution_count": 18,
   "metadata": {},
   "outputs": [
    {
     "data": {
      "text/plain": [
       "DataFrame[community_area: string, district: int, _c0: int, id: int, case_number: string, date: timestamp, year: int, month: int, day: int, dow: int, hour: int, block: string, iucr: string, primary_type: string, description: string, location_description: string, arrest: boolean, domestic: boolean, beat: int, ward: string, fbi_code: string, latitude: string, longitude: string, districtName: string, _c2: string, communityAreaName: string, communityAreaSide: string]"
      ]
     },
     "execution_count": 18,
     "metadata": {},
     "output_type": "execute_result"
    }
   ],
   "source": [
    "# To ensure that the join occurred\n",
    "combinedCommAreaDf"
   ]
  },
  {
   "cell_type": "markdown",
   "metadata": {},
   "source": [
    "### IUCR Index Code\n",
    "The \"Index-Code\" which is either violent: **\"I\"** or **\"N\"** is enriched using an inner join."
   ]
  },
  {
   "cell_type": "code",
   "execution_count": 19,
   "metadata": {},
   "outputs": [],
   "source": [
    "combinedICRDf = combinedCommAreaDf\\\n",
    "                   .join(iucrDF,\"iucr\",\"inner\")"
   ]
  },
  {
   "cell_type": "code",
   "execution_count": 20,
   "metadata": {},
   "outputs": [
    {
     "data": {
      "text/plain": [
       "DataFrame[iucr: string, community_area: string, district: int, _c0: int, id: int, case_number: string, date: timestamp, year: int, month: int, day: int, dow: int, hour: int, block: string, primary_type: string, description: string, location_description: string, arrest: boolean, domestic: boolean, beat: int, ward: string, fbi_code: string, latitude: string, longitude: string, districtName: string, _c2: string, communityAreaName: string, communityAreaSide: string, index_code: string]"
      ]
     },
     "execution_count": 20,
     "metadata": {},
     "output_type": "execute_result"
    }
   ],
   "source": [
    "# To ensure that the join occurred\n",
    "combinedICRDf"
   ]
  },
  {
   "cell_type": "markdown",
   "metadata": {},
   "source": [
    "### Socio Economic Factors\n",
    "Below we are enriching the final dataframe with the socio-economic factors including **% below poverty level**, **% with no High-School Diploma**, **per Capita Income** and **unemployment rate**. This was done using an inner join. \n",
    "Note: this information is an average for the years 2014 - 2016 and split by community area. "
   ]
  },
  {
   "cell_type": "code",
   "execution_count": 21,
   "metadata": {},
   "outputs": [],
   "source": [
    "crimeDF = combinedICRDf\\\n",
    "             .join(genDF,\"community_area\",'inner')"
   ]
  },
  {
   "cell_type": "code",
   "execution_count": 22,
   "metadata": {},
   "outputs": [
    {
     "data": {
      "text/plain": [
       "DataFrame[community_area: string, iucr: string, district: int, _c0: int, id: int, case_number: string, date: timestamp, year: int, month: int, day: int, dow: int, hour: int, block: string, primary_type: string, description: string, location_description: string, arrest: boolean, domestic: boolean, beat: int, ward: string, fbi_code: string, latitude: string, longitude: string, districtName: string, _c2: string, communityAreaName: string, communityAreaSide: string, index_code: string, belowPovertyLevel: double, crowdedHousing: double, noHighSchoolDiploma: double, perCapitaIncome: int, unemployment: double]"
      ]
     },
     "execution_count": 22,
     "metadata": {},
     "output_type": "execute_result"
    }
   ],
   "source": [
    "#To ensure that the join occurred\n",
    "crimeDF"
   ]
  },
  {
   "cell_type": "code",
   "execution_count": 25,
   "metadata": {},
   "outputs": [
    {
     "name": "stdout",
     "output_type": "stream",
     "text": [
      "+--------------+----+--------+----+-------+-----------+-------------------+----+-----+---+---+----+-----------------+-----------------+-----------+--------------------+------+--------+----+----+--------+------------+-------------+------------+----+-----------------+-----------------+----------+-----------------+--------------+-------------------+---------------+------------+\n",
      "|community_area|iucr|district| _c0|     id|case_number|               date|year|month|day|dow|hour|            block|     primary_type|description|location_description|arrest|domestic|beat|ward|fbi_code|    latitude|    longitude|districtName| _c2|communityAreaName|communityAreaSide|index_code|belowPovertyLevel|crowdedHousing|noHighSchoolDiploma|perCapitaIncome|unemployment|\n",
      "+--------------+----+--------+----+-------+-----------+-------------------+----+-----+---+---+----+-----------------+-----------------+-----------+--------------------+------+--------+----+----+--------+------------+-------------+------------+----+-----------------+-----------------+----------+-----------------+--------------+-------------------+---------------+------------+\n",
      "|            31|1330|      10| 741|9448432|   HX101715|2014-01-02 18:02:00|2014|    1|  2|  5|  18|025XX W CERMAK RD|CRIMINAL TRESPASS|    TO LAND|    DEPARTMENT STORE|  true|   false|1023|  25|      26|41.852001972|-87.688617027|       Ogden|null|  Lower West Side|        West side|         N|             27.2|          10.4|               44.3|          15467|        13.0|\n",
      "|            31|1330|      12|1044|9449465|   HX102393|2014-01-03 13:15:00|2014|    1|  3|  6|  13|023XX W CERMAK RD|CRIMINAL TRESPASS|    TO LAND|          RESTAURANT|  true|   false|1234|  25|      26|41.852041627|-87.684450627|   Near West|null|  Lower West Side|        West side|         N|             27.2|          10.4|               44.3|          15467|        13.0|\n",
      "+--------------+----+--------+----+-------+-----------+-------------------+----+-----+---+---+----+-----------------+-----------------+-----------+--------------------+------+--------+----+----+--------+------------+-------------+------------+----+-----------------+-----------------+----------+-----------------+--------------+-------------------+---------------+------------+\n",
      "only showing top 2 rows\n",
      "\n"
     ]
    }
   ],
   "source": [
    "# to ensure the table is fully enriched\n",
    "crimeDF.show(2)"
   ]
  },
  {
   "cell_type": "markdown",
   "metadata": {},
   "source": [
    "### Conclusion: Joins"
   ]
  },
  {
   "cell_type": "markdown",
   "metadata": {},
   "source": [
    "The final dataframe is **crimeDF** and has been enriched with the Community Area Names, Side of Chicago,  Police Department Names, the IUCR Index Codes and the several Socio Economic Factors defined for Chicago. "
   ]
  },
  {
   "cell_type": "markdown",
   "metadata": {},
   "source": [
    "### D. Data Entities, Metrics and Dimensions\n",
    "\n",
    "We've identified the following elements:\n",
    "\n",
    "* **Entities:** Case Number, date, Crime Type (dimension), Location (dimension)\n",
    "* **Metrics:** % Below Poverty level, % Crowded Housing, % no High school Diploma, Income per Capita & % Unemployment rate\n",
    "* **Dimensions:** Arrest, Domestic, Police department, Ward, CommmunityArea,\n",
    "\n",
    "### E. Column Categorization\n",
    "\n",
    "The following is the column categorization:\n",
    "\n",
    "* **Timing related columns:** *Year*, *Month*, *DayofMonth*, *DayOfWeek*, *HourOfDay*\n",
    "* **Location related columns:** *Block*, *Location Description*, *Beat*, *District*,*Police District Name*,*Ward*, *Community Area*,*Community Area Name*, *Community Area Side*, *Latitude*, *Longitude*\n",
    "* **Crime related columns:** *ID*, *Case Number*, *Primary Type*, *Description*, *Arrest*, *Domestic*, *IUCR*, *Index Code*, *FBI Code*\n",
    "* **Socio-economic factors columns:** *Below Poverty Level*, *Crowded Housing*, *No High-school Diploma*, *per Capita Income*, *Unemployment*\n",
    "\n",
    "## 4. Columns groups basic profiling to better understand our data set\n",
    "### A. Basic Profiling: Timing related columns"
   ]
  },
  {
   "cell_type": "code",
   "execution_count": 23,
   "metadata": {},
   "outputs": [
    {
     "name": "stdout",
     "output_type": "stream",
     "text": [
      "Summary of columns Date, Year, Month, DayofMonth, DayOfWeek and HourOfDay:\n",
      "+-------+------------------+------------------+------------------+------------------+------------------+\n",
      "|summary|              year|             month|               day|               dow|              hour|\n",
      "+-------+------------------+------------------+------------------+------------------+------------------+\n",
      "|  count|            312537|            312537|            312537|            312537|            312537|\n",
      "|   mean|2014.9068270316795|6.2287185197272645|15.498644960436684| 4.052540979148069|13.392619113896915|\n",
      "| stddev| 0.797917054303514| 3.229429701861881| 8.826555021840456|1.9903781403914629| 6.622624872723397|\n",
      "|    min|              2014|                 1|                 1|                 1|                 0|\n",
      "|    25%|              2014|                 4|                 8|                 2|                 9|\n",
      "|    50%|              2015|                 6|                15|                 4|                14|\n",
      "|    75%|              2016|                 9|                23|                 6|                19|\n",
      "|    max|              2016|                12|                31|                 7|                23|\n",
      "+-------+------------------+------------------+------------------+------------------+------------------+\n",
      "\n",
      "Checking for nulls on columns Date, Year, Month, DayofMonth, DayOfWeek and HourOfDay:\n",
      "+----+----+-----+---+---+----+\n",
      "|date|year|month|day|dow|hour|\n",
      "+----+----+-----+---+---+----+\n",
      "|   0|   0|    0|  0|  0|   0|\n",
      "+----+----+-----+---+---+----+\n",
      "\n",
      "Checking amount of distinct values in columns Year, Month, DayofMonth and DayOfWeek:\n",
      "+------+----+-----+---+---+----+\n",
      "|  date|year|month|day|dow|hour|\n",
      "+------+----+-----+---+---+----+\n",
      "|193082|   3|   12| 31|  7|  24|\n",
      "+------+----+-----+---+---+----+\n",
      "\n",
      "Most and least frequent occurrences for Year, Month, DayofMonth, DayOfWeek and HourOfDay columns:\n"
     ]
    },
    {
     "data": {
      "text/markdown": [
       "\n",
       "| leastFreqYear | mostFreqYear | leastFreqMonth | mostFreqMonth | leastFreqDayOfMonth | mostFreqDayOfMonth | leastFreqDayOfWeek | mostFreqDayOfWeek | leastFreqHourOfDay | mostFreqHourOfDay |\n",
       "|----|----|----|----|----|----|----|----|----|----|\n",
       "| 2016 (16924 occurrences) | 2014 (30112 occurrences) | 12 (16924 occurrences) | 7 (30112 occurrences) | 31 (5642 occurrences) | 1 (13184 occurrences) | 1 (42110 occurrences) | 6 (47642 occurrences) | 5 (3613 occurrences) | 19 (20027 occurrences) |\n"
      ],
      "text/plain": [
       "<IPython.core.display.Markdown object>"
      ]
     },
     "metadata": {},
     "output_type": "display_data"
    }
   ],
   "source": [
    "from IPython.display import display, Markdown\n",
    "from pyspark.sql.functions import when, count, col, countDistinct, desc, first, lit\n",
    "\n",
    "\n",
    "print (\"Summary of columns Date, Year, Month, DayofMonth, DayOfWeek and HourOfDay:\")\n",
    "crimeDF.select(\"date\",\"year\",\"month\",\"day\",\"dow\",\"hour\").summary().show()\n",
    "\n",
    "print(\"Checking for nulls on columns Date, Year, Month, DayofMonth, DayOfWeek and HourOfDay:\")\n",
    "crimeDF.select([count(when(col(c).isNull(), c)).alias(c) for c in [\"date\",\"year\",\"month\",\"day\",\"dow\",\"hour\"]]).show()\n",
    "\n",
    "print(\"Checking amount of distinct values in columns Year, Month, DayofMonth and DayOfWeek:\")\n",
    "crimeDF.select([countDistinct(c).alias(c) for c in [\"date\",\"year\",\"month\",\"day\",\"dow\",\"hour\"]]).show()\n",
    "\n",
    "print (\"Most and least frequent occurrences for Year, Month, DayofMonth, DayOfWeek and HourOfDay columns:\")\n",
    "YearOccurencesDF = crimeDF.groupBy(\"year\").agg(count(lit(1)).alias(\"Total\"))\n",
    "MonthOccurencesDF = crimeDF.groupBy(\"month\").agg(count(lit(1)).alias(\"Total\"))\n",
    "dayofMonthOccurrencesDF = crimeDF.groupBy(\"day\").agg(count(lit(1)).alias(\"Total\"))\n",
    "dayOfWeekDF = crimeDF.groupBy(\"dow\").agg(count(lit(1)).alias(\"Total\"))\n",
    "hourOfDayDF = crimeDF.groupBy(\"hour\").agg(count(lit(1)).alias(\"Total\"))\n",
    "\n",
    "leastFreqYear          = YearOccurencesDF.orderBy(col(\"Total\").asc()).first()\n",
    "mostFreqYear           = YearOccurencesDF.orderBy(col(\"Total\").desc()).first()\n",
    "leastFreqMonth         = MonthOccurencesDF.orderBy(col(\"Total\").asc()).first()\n",
    "mostFreqMonth          = MonthOccurencesDF.orderBy(col(\"Total\").desc()).first()\n",
    "leastFreqDayOfMonth    = dayofMonthOccurrencesDF.orderBy(col(\"Total\").asc()).first()\n",
    "mostFreqDayOfMonth     = dayofMonthOccurrencesDF.orderBy(col(\"Total\").desc()).first()\n",
    "leastFreqDayOfWeek     = dayOfWeekDF.orderBy(col(\"Total\").asc()).first()\n",
    "mostFreqDayOfWeek      = dayOfWeekDF.orderBy(col(\"Total\").desc()).first()\n",
    "leastFreqHourOfDay     = hourOfDayDF.orderBy(col(\"Total\").asc()).first()\n",
    "mostFreqHourOfDay      = hourOfDayDF.orderBy(col(\"Total\").desc()).first()\n",
    "display(Markdown(\"\"\"\n",
    "| %s | %s | %s | %s | %s | %s | %s | %s | %s | %s |\n",
    "|----|----|----|----|----|----|----|----|----|----|\n",
    "| %s | %s | %s | %s | %s | %s | %s | %s | %s | %s |\n",
    "\"\"\" % (\"leastFreqYear\",\"mostFreqYear\",\"leastFreqMonth\",\"mostFreqMonth\",\"leastFreqDayOfMonth\", \"mostFreqDayOfMonth\", \"leastFreqDayOfWeek\", \"mostFreqDayOfWeek\", \"leastFreqHourOfDay\",\"mostFreqHourOfDay\", \\\n",
    "       \"%d (%d occurrences)\" % (leastFreqYear[\"year\"], leastFreqMonth[\"Total\"]), \\\n",
    "       \"%d (%d occurrences)\" % (mostFreqYear[\"year\"], mostFreqMonth[\"Total\"]), \\\n",
    "       \"%d (%d occurrences)\" % (leastFreqMonth[\"month\"], leastFreqMonth[\"Total\"]), \\\n",
    "       \"%d (%d occurrences)\" % (mostFreqMonth[\"month\"], mostFreqMonth[\"Total\"]), \\\n",
    "       \"%d (%d occurrences)\" % (leastFreqDayOfMonth[\"day\"], leastFreqDayOfMonth[\"Total\"]), \\\n",
    "       \"%d (%d occurrences)\" % (mostFreqDayOfMonth[\"day\"], mostFreqDayOfMonth[\"Total\"]), \\\n",
    "       \"%d (%d occurrences)\" % (leastFreqDayOfWeek[\"dow\"], leastFreqDayOfWeek[\"Total\"]), \\\n",
    "       \"%d (%d occurrences)\" % (mostFreqDayOfWeek[\"dow\"], mostFreqDayOfWeek[\"Total\"]), \\\n",
    "       \"%d (%d occurrences)\" % (leastFreqHourOfDay[\"hour\"], leastFreqHourOfDay[\"Total\"]), \\\n",
    "       \"%d (%d occurrences)\" % (mostFreqHourOfDay[\"hour\"], mostFreqHourOfDay[\"Total\"]))))\n"
   ]
  },
  {
   "cell_type": "markdown",
   "metadata": {},
   "source": [
    "### B. Basic profiling: Location related columns"
   ]
  },
  {
   "cell_type": "code",
   "execution_count": 27,
   "metadata": {},
   "outputs": [
    {
     "name": "stdout",
     "output_type": "stream",
     "text": [
      "Summary of columns Block, LocDescription, Beat, District, Police Department, Ward, Community Area, Area Name and Side of Chicago:\n",
      "+-------+------------------+--------------------+-----------------+------------------+------------+------------------+-----------------+-----------------+-----------------+\n",
      "|summary|             block|location_description|             beat|          district|districtName|              ward|   community_area|communityAreaName|communityAreaSide|\n",
      "+-------+------------------+--------------------+-----------------+------------------+------------+------------------+-----------------+-----------------+-----------------+\n",
      "|  count|            312537|              311629|           312537|            312537|      312537|            312537|           312537|           312537|           312537|\n",
      "|   mean|              null|                null|1141.745745303756| 11.18682587981583|        null|22.630859706210785|38.15121729587217|             null|             null|\n",
      "| stddev|              null|                null|676.6666053622366|6.7595659824023135|        null|13.230260931830454|21.14397683541287|             null|             null|\n",
      "|    min|  0000X E 100TH PL|  ABANDONED BUILDING|              111|                 1| Albany Park|                 1|                1|      Albany Park|          Central|\n",
      "|    25%|              null|                null|              621|                 6|        null|              11.0|             24.0|             null|             null|\n",
      "|    50%|              null|                null|             1024|                10|        null|              23.0|             32.0|             null|             null|\n",
      "|    75%|              null|                null|             1623|                16|        null|              32.0|             58.0|             null|             null|\n",
      "|    max|137XX S LEYDEN AVE|           WAREHOUSE|             2535|                25|   Wentworth|                 9|                9|         Woodlawn|        West side|\n",
      "+-------+------------------+--------------------+-----------------+------------------+------------+------------------+-----------------+-----------------+-----------------+\n",
      "\n",
      "Checking for nulls on columns Block, LocationDescription, Beat, District, Police Department, Ward, CommunityArea Area Name and Side of Chicago:\n",
      "+-----+--------------------+----+--------+------------+----+--------------+-----------------+-----------------+\n",
      "|block|location_description|beat|district|districtName|ward|community_area|communityAreaName|communityAreaSide|\n",
      "+-----+--------------------+----+--------+------------+----+--------------+-----------------+-----------------+\n",
      "|    0|                 908|   0|       0|           0|   0|             0|                0|                0|\n",
      "+-----+--------------------+----+--------+------------+----+--------------+-----------------+-----------------+\n",
      "\n",
      "Checking amount of distinct values in columns Block, LocationDescription, Beat, District, Police Department, Ward, Community Area, Area Name and Side of Chicago:\n",
      "+-----+--------------------+----+--------+----+--------------+-----------------+-----------------+\n",
      "|block|location_description|beat|district|ward|community_area|communityAreaName|communityAreaSide|\n",
      "+-----+--------------------+----+--------+----+--------------+-----------------+-----------------+\n",
      "|28349|                 101| 274|      22|  50|            77|               77|                9|\n",
      "+-----+--------------------+----+--------+----+--------------+-----------------+-----------------+\n",
      "\n",
      "Most and least frequent occurrences for Block, LocationDescription, Beat, District, Police Department, Ward, CommunityArea, Area Name and Side of Chicago:\n"
     ]
    },
    {
     "data": {
      "text/markdown": [
       "\n",
       "| leastFreqBlock | mostFreqBlock | leastFreqLocationDesc | mostFreqLocationDesc |\n",
       "|----|----|----|----|\n",
       "| 017XX W MADISON ST (1 occurrences) | 0000X W TERMINAL ST (725 occurrences) | DELIVERY TRUCK (2 occurrences) | STREET (77396 occurrences) |\n"
      ],
      "text/plain": [
       "<IPython.core.display.Markdown object>"
      ]
     },
     "metadata": {},
     "output_type": "display_data"
    },
    {
     "data": {
      "text/markdown": [
       "\n",
       "| leastFreqBeat | mostFreqBeat | leastFreqDistrict | mostFreqDistrict |\n",
       "|----|----|----|----|\n",
       "| 1655 (194 occurrences) | 1533 (3827 occurrences) | 20 (4627 occurrences) | 11 (31023 occurrences) |\n"
      ],
      "text/plain": [
       "<IPython.core.display.Markdown object>"
      ]
     },
     "metadata": {},
     "output_type": "display_data"
    },
    {
     "data": {
      "text/markdown": [
       "\n",
       "| leastFreqWard | mostFreqWard | leastFreqCommunityArea | mostFreqCommunityArea |\n",
       "|----|----|----|----|\n",
       "| 48 (2396 occurrences) | 28 (20887 occurrences) | 9 (349 occurrences) | 25 (25144 occurrences) |\n"
      ],
      "text/plain": [
       "<IPython.core.display.Markdown object>"
      ]
     },
     "metadata": {},
     "output_type": "display_data"
    },
    {
     "data": {
      "text/markdown": [
       "\n",
       "| leastFreqDeptName | mostFreqDeptName  | leastFreqCommName | mostFreqCommName | leastFreqSide | mostFreqSide |\n",
       "|----|----|----|----|----|----|\n",
       "| Lincoln (4627 occurrences) | Harrison (31023 occurrences) | Edison Park (349 occurrences) | Austin (25144 occurrences) | Central (16622 occurrences) | West side (89922 occurrences) |\n"
      ],
      "text/plain": [
       "<IPython.core.display.Markdown object>"
      ]
     },
     "metadata": {},
     "output_type": "display_data"
    }
   ],
   "source": [
    "from IPython.display import display, Markdown\n",
    "from pyspark.sql.functions import when, count, col, countDistinct, desc, first\n",
    "\n",
    "print (\"Summary of columns Block, LocDescription, Beat, District, Police Department, Ward, Community Area, Area Name and Side of Chicago:\")\n",
    "crimeDF.select(\"block\", \"location_description\", \"beat\", \"district\",\"districtName\",\"ward\", \"community_area\",\"communityAreaName\", \"communityAreaSide\").summary().show()\n",
    "\n",
    "print(\"Checking for nulls on columns Block, LocationDescription, Beat, District, Police Department, Ward, CommunityArea Area Name and Side of Chicago:\")\n",
    "crimeDF.select([count(when(col(c).isNull(), c)).alias(c) for c in [\"block\", \"location_description\", \"beat\", \"district\",\"districtName\",\"ward\", \"community_area\",\"communityAreaName\",\"communityAreaSide\"]]).show()\n",
    "\n",
    "\n",
    "print(\"Checking amount of distinct values in columns Block, LocationDescription, Beat, District, Police Department, Ward, Community Area, Area Name and Side of Chicago:\")\n",
    "crimeDF.select([countDistinct(c).alias(c) for c in [\"block\", \"location_description\", \"beat\", \"district\", \"ward\", \"community_area\",\"communityAreaName\",\"communityAreaSide\"]]).show()\n",
    "\n",
    "print (\"Most and least frequent occurrences for Block, LocationDescription, Beat, District, Police Department, Ward, CommunityArea, Area Name and Side of Chicago:\")\n",
    "blockDF         = crimeDF.groupBy(\"block\").agg(count(lit(1)).alias(\"Total\"))\n",
    "locDescDF       = crimeDF.groupBy(\"location_description\").agg(count(lit(1)).alias(\"Total\"))\n",
    "beatDF          = crimeDF.groupBy(\"beat\").agg(count(lit(1)).alias(\"Total\"))\n",
    "districtDF      = crimeDF.groupBy(\"district\").agg(count(lit(1)).alias(\"Total\"))\n",
    "wardDF          = crimeDF.groupBy(\"ward\").agg(count(lit(1)).alias(\"Total\"))\n",
    "communityAreaDF = crimeDF.groupBy(\"community_area\").agg(count(lit(1)).alias(\"Total\"))\n",
    "\n",
    "deptDF          = crimeDF.groupBy(\"districtName\").agg(count(lit(1)).alias(\"Total\"))\n",
    "commAreaNameDF  = crimeDF.groupBy(\"communityAreaName\").agg(count(lit(1)).alias(\"Total\"))\n",
    "commAreaSideDF  = crimeDF.groupBy(\"communityAreaSide\").agg(count(lit(1)).alias(\"Total\"))\n",
    "\n",
    "\n",
    "leastFreqBlock          = blockDF.orderBy(col(\"Total\").asc()).first()\n",
    "mostFreqBlock           = blockDF.orderBy(col(\"Total\").desc()).first()\n",
    "leastFreqLocationDesc   = locDescDF.orderBy(col(\"Total\").asc()).first()\n",
    "mostFreqLocationDesc    = locDescDF.orderBy(col(\"Total\").desc()).first()\n",
    "leastFreqBeat           = beatDF.orderBy(col(\"Total\").asc()).first()\n",
    "mostFreqBeat            = beatDF.orderBy(col(\"Total\").desc()).first()\n",
    "\n",
    "leastFreqDistrict       = districtDF.orderBy(col(\"Total\").asc()).first()\n",
    "mostFreqDistrict        = districtDF.orderBy(col(\"Total\").desc()).first()\n",
    "leastFreqWard           = wardDF.orderBy(col(\"Total\").asc()).first()\n",
    "mostFreqWard            = wardDF.orderBy(col(\"Total\").desc()).first()\n",
    "leastFreqCommunityArea  = communityAreaDF.orderBy(col(\"Total\").asc()).first()\n",
    "mostFreqCommunityArea   = communityAreaDF.orderBy(col(\"Total\").desc()).first()\n",
    "\n",
    "leastFreqDeptName       = deptDF.orderBy(col(\"Total\").asc()).first()\n",
    "mostFreqDeptName        = deptDF.orderBy(col(\"Total\").desc()).first()\n",
    "leastFreqCommName       = commAreaNameDF.orderBy(col(\"Total\").asc()).first()\n",
    "mostFreqCommName        = commAreaNameDF.orderBy(col(\"Total\").desc()).first()\n",
    "leastFreqSide           = commAreaSideDF.orderBy(col(\"Total\").asc()).first()\n",
    "mostFreqSide            = commAreaSideDF.orderBy(col(\"Total\").desc()).first()\n",
    "\n",
    "display(Markdown(\"\"\"\n",
    "| %s | %s | %s | %s |\n",
    "|----|----|----|----|\n",
    "| %s | %s | %s | %s |\n",
    "\"\"\" % (\"leastFreqBlock\", \"mostFreqBlock\", \"leastFreqLocationDesc\", \"mostFreqLocationDesc\", \\\n",
    "       \"%s (%d occurrences)\" % (leastFreqBlock[\"block\"], leastFreqBlock[\"Total\"]), \\\n",
    "       \"%s (%d occurrences)\" % (mostFreqBlock[\"block\"], mostFreqBlock[\"Total\"]), \\\n",
    "       \"%s (%d occurrences)\" % (leastFreqLocationDesc[\"location_description\"], leastFreqLocationDesc[\"Total\"]), \\\n",
    "       \"%s (%d occurrences)\" % (mostFreqLocationDesc[\"location_description\"], mostFreqLocationDesc[\"Total\"]))))\n",
    "display(Markdown(\"\"\"\n",
    "| %s | %s | %s | %s |\n",
    "|----|----|----|----|\n",
    "| %s | %s | %s | %s |\n",
    "\"\"\" % (\"leastFreqBeat\", \"mostFreqBeat\", \"leastFreqDistrict\", \"mostFreqDistrict\", \\\n",
    "       \"%d (%d occurrences)\" % (leastFreqBeat[\"beat\"], leastFreqBeat[\"Total\"]), \\\n",
    "       \"%d (%d occurrences)\" % (mostFreqBeat[\"beat\"], mostFreqBeat[\"Total\"]), \\\n",
    "       \"%d (%d occurrences)\" % (leastFreqDistrict[\"district\"], leastFreqDistrict[\"Total\"]), \\\n",
    "       \"%d (%d occurrences)\" % (mostFreqDistrict[\"district\"], mostFreqDistrict[\"Total\"]))))\n",
    "display(Markdown(\"\"\"\n",
    "| %s | %s | %s | %s |\n",
    "|----|----|----|----|\n",
    "| %s | %s | %s | %s |\n",
    "\"\"\" % (\"leastFreqWard\", \"mostFreqWard\", \"leastFreqCommunityArea\", \"mostFreqCommunityArea\", \\\n",
    "       \"%s (%d occurrences)\" % (leastFreqWard[\"ward\"], leastFreqWard[\"Total\"]), \\\n",
    "       \"%s (%d occurrences)\" % (mostFreqWard[\"ward\"], mostFreqWard[\"Total\"]), \\\n",
    "       \"%s (%d occurrences)\" % (leastFreqCommunityArea[\"community_area\"], leastFreqCommunityArea[\"Total\"]), \\\n",
    "       \"%s (%d occurrences)\" % (mostFreqCommunityArea[\"community_area\"], mostFreqCommunityArea[\"Total\"]))))\n",
    "display(Markdown(\"\"\"\n",
    "| %s | %s | %s | %s | %s | %s |\n",
    "|----|----|----|----|----|----|\n",
    "| %s | %s | %s | %s | %s | %s |\n",
    "\"\"\" % (\"leastFreqDeptName\", \"mostFreqDeptName \", \"leastFreqCommName\", \"mostFreqCommName\",\"leastFreqSide\",\"mostFreqSide\", \\\n",
    "       \"%s (%d occurrences)\" % (leastFreqDeptName[\"districtName\"], leastFreqDeptName[\"Total\"]), \\\n",
    "       \"%s (%d occurrences)\" % (mostFreqDeptName [\"districtName\"], mostFreqDeptName[\"Total\"]), \\\n",
    "       \"%s (%d occurrences)\" % (leastFreqCommName[\"communityAreaName\"], leastFreqCommName[\"Total\"]), \\\n",
    "       \"%s (%d occurrences)\" % (mostFreqCommName[\"communityAreaName\"], mostFreqCommName[\"Total\"]), \\\n",
    "       \"%s (%d occurrences)\" % (leastFreqSide[\"communityAreaSide\"], leastFreqSide[\"Total\"]),\n",
    "       \"%s (%d occurrences)\" % (mostFreqSide[\"communityAreaSide\"], mostFreqSide[\"Total\"]))))"
   ]
  },
  {
   "cell_type": "markdown",
   "metadata": {},
   "source": [
    "### C. Basic Profiling: Crime related columns"
   ]
  },
  {
   "cell_type": "code",
   "execution_count": 28,
   "metadata": {},
   "outputs": [
    {
     "name": "stdout",
     "output_type": "stream",
     "text": [
      "Summary of columns Id, CaseNumber, IUCRCode, IndexCode, FBICode, PrimaryType and CrimeDescription:\n",
      "+-------+--------------------+-----------+------------------+----------+-----------------+-----------------+--------------------+\n",
      "|summary|                  id|case_number|              iucr|index_code|         fbi_code|     primary_type|         description|\n",
      "+-------+--------------------+-----------+------------------+----------+-----------------+-----------------+--------------------+\n",
      "|  count|              312537|     312537|            312537|    312537|           312537|           312537|              312537|\n",
      "|   mean|1.0090193063195718E7|   161884.0|1872.6413737008586|      null|17.15632679155318|             null|                null|\n",
      "| stddev|   368486.3256183279|        NaN| 958.0193833000208|      null|6.094784938055646|             null|                null|\n",
      "|    min|             9446758|     161884|              031A|         I|               02|            ARSON|ABUSE/NEGLECT: CA...|\n",
      "|    25%|             9768845|   161884.0|            1310.0|      null|             14.0|             null|                null|\n",
      "|    50%|            10088891|   161884.0|            1345.0|      null|             16.0|             null|                null|\n",
      "|    75%|            10409805|   161884.0|            2024.0|      null|             24.0|             null|                null|\n",
      "|    max|            10736381|   ZZ376673|              5132|         N|               26|WEAPONS VIOLATION|VIOLENT OFFENDER:...|\n",
      "+-------+--------------------+-----------+------------------+----------+-----------------+-----------------+--------------------+\n",
      "\n",
      "Summary of columns Domestic and Arrest:\n",
      "+-------+\n",
      "|summary|\n",
      "+-------+\n",
      "|  count|\n",
      "|   mean|\n",
      "| stddev|\n",
      "|    min|\n",
      "|    25%|\n",
      "|    50%|\n",
      "|    75%|\n",
      "|    max|\n",
      "+-------+\n",
      "\n",
      "Checking for nulls on Id, CaseNumber, IUCRCode, FBICode, PrimaryType, CrimeDescription, Domestic, Arrest:\n",
      "+---+-----------+----+--------+------------+-----------+--------+------+\n",
      "| id|case_number|iucr|fbi_code|primary_type|description|domestic|arrest|\n",
      "+---+-----------+----+--------+------------+-----------+--------+------+\n",
      "|  0|          0|   0|       0|           0|          0|       0|     0|\n",
      "+---+-----------+----+--------+------------+-----------+--------+------+\n",
      "\n",
      "Checking amount of distinct values in columns Id, CaseNumber, IUCRCode, IndexCode, FBICode, PrimaryType, CrimeDescription, Domestic, Arrest:\n",
      "+------+-----------+----+----------+--------+------------+-----------+--------+------+\n",
      "|    id|case_number|iucr|index_code|fbi_code|primary_type|description|domestic|arrest|\n",
      "+------+-----------+----+----------+--------+------------+-----------+--------+------+\n",
      "|312537|     312536| 250|         2|      19|          25|        244|       2|     2|\n",
      "+------+-----------+----+----------+--------+------------+-----------+--------+------+\n",
      "\n",
      "Most and least frequent occurrences for IUCRCode, IndexCode, FBICode, PrimaryType, CrimeDescription, Domestic and Arrest:\n"
     ]
    },
    {
     "data": {
      "text/markdown": [
       "\n",
       "| leastFreqIucrCode | mostFreqIucrCode | leastFreqIndexCode | mostFreqIndexCode | leastFreqFbiCode | mostFreqFbiCode |\n",
       "|----|----|----|----|----|----|\n",
       "| 4740 (1 occurrences) | 1320 (38883 occurrences) | I (25750 occurrences) | N (286787 occurrences) | 12 (119 occurrences) | 14 (82036 occurrences) |\n"
      ],
      "text/plain": [
       "<IPython.core.display.Markdown object>"
      ]
     },
     "metadata": {},
     "output_type": "display_data"
    },
    {
     "data": {
      "text/markdown": [
       "\n",
       "| leastFreqPrimaryType | mostFreqPrimaryType | leastFreqCrimeDescription | mostFreqCrimeDescription |\n",
       "|----|----|----|----|\n",
       "| NON-CRIMINAL (3 occurrences) | CRIMINAL DAMAGE (82036 occurrences) | COMPELLING CONFESSION (1 occurrences) | TO VEHICLE (40883 occurrences) |\n"
      ],
      "text/plain": [
       "<IPython.core.display.Markdown object>"
      ]
     },
     "metadata": {},
     "output_type": "display_data"
    },
    {
     "data": {
      "text/markdown": [
       "\n",
       "| leastFreqDomestic | mostFreqDomestic | leastFreqArrest | mostFreqArrest |\n",
       "|----|----|----|----|\n",
       "| True (29958 occurrences) | False (282579 occurrences) | True (116964 occurrences) | False (195573 occurrences) |\n"
      ],
      "text/plain": [
       "<IPython.core.display.Markdown object>"
      ]
     },
     "metadata": {},
     "output_type": "display_data"
    }
   ],
   "source": [
    "from IPython.display import display, Markdown\n",
    "from pyspark.sql.functions import when, count, col, countDistinct, desc, first\n",
    "\n",
    "print (\"Summary of columns Id, CaseNumber, IUCRCode, IndexCode, FBICode, PrimaryType and CrimeDescription:\")\n",
    "crimeDF.select(\"id\", \"case_number\", \"iucr\",\"index_code\", \"fbi_code\", \"primary_type\", \"description\").summary().show()\n",
    "\n",
    "print (\"Summary of columns Domestic and Arrest:\")\n",
    "crimeDF.select(\"arrest\",\"domestic\").summary().show()\n",
    "\n",
    "print(\"Checking for nulls on Id, CaseNumber, IUCRCode, FBICode, PrimaryType, CrimeDescription, Domestic, Arrest:\")\n",
    "crimeDF.select([count(when(col(c).isNull(), c)).alias(c) for c in [\"id\", \"case_number\", \"iucr\", \"fbi_code\", \"primary_type\", \"description\",\"domestic\",\"arrest\"]]).show()\n",
    "\n",
    "print(\"Checking amount of distinct values in columns Id, CaseNumber, IUCRCode, IndexCode, FBICode, PrimaryType, CrimeDescription, Domestic, Arrest:\")\n",
    "crimeDF.select([countDistinct(c).alias(c) for c in [\"id\", \"case_number\", \"iucr\",\"index_code\",\"fbi_code\", \"primary_type\", \"description\",\"domestic\",\"arrest\"]]).show()\n",
    "\n",
    "print (\"Most and least frequent occurrences for IUCRCode, IndexCode, FBICode, PrimaryType, CrimeDescription, Domestic and Arrest:\")\n",
    "iucrCodeDF         = crimeDF.groupBy(\"iucr\").agg(count(lit(1)).alias(\"Total\"))\n",
    "indexCodeDF        = crimeDF.groupBy(\"index_code\").agg(count(lit(1)).alias(\"Total\"))\n",
    "fbiCodeDF          = crimeDF.groupBy(\"fbi_code\").agg(count(lit(1)).alias(\"Total\"))\n",
    "primaryTypeDF      = crimeDF.groupBy(\"primary_type\").agg(count(lit(1)).alias(\"Total\"))\n",
    "crimeDescriptionDF = crimeDF.groupBy(\"description\").agg(count(lit(1)).alias(\"Total\"))\n",
    "domesticDF         = crimeDF.groupBy(\"domestic\").agg(count(lit(1)).alias(\"Total\"))\n",
    "arrestDF           = crimeDF.groupBy(\"arrest\").agg(count(lit(1)).alias(\"Total\"))\n",
    "\n",
    "leastFreqIucrCode         = iucrCodeDF.orderBy(col(\"Total\").asc()).first()\n",
    "mostFreqIucrCode          = iucrCodeDF.orderBy(col(\"Total\").desc()).first()\n",
    "leastFreqIndexCode        = indexCodeDF.orderBy(col(\"Total\").asc()).first()\n",
    "mostFreqIndexCode         = indexCodeDF.orderBy(col(\"Total\").desc()).first()\n",
    "leastFreqFbiCode          = fbiCodeDF.orderBy(col(\"Total\").asc()).first()\n",
    "mostFreqFbiCode           = fbiCodeDF.orderBy(col(\"Total\").desc()).first()\n",
    "\n",
    "leastFreqPrimaryType      = primaryTypeDF.orderBy(col(\"Total\").asc()).first()\n",
    "mostFreqPrimaryType       = primaryTypeDF.orderBy(col(\"Total\").desc()).first()\n",
    "leastFreqCrimeDescription = crimeDescriptionDF.orderBy(col(\"Total\").asc()).first()\n",
    "mostFreqCrimeDescription  = crimeDescriptionDF.orderBy(col(\"Total\").desc()).first()\n",
    "leastFreqDomestic         = domesticDF.orderBy(col(\"Total\").asc()).first()\n",
    "mostFreqDomestic          = domesticDF.orderBy(col(\"Total\").desc()).first()\n",
    "leastFreqArrest           = arrestDF.orderBy(col(\"Total\").asc()).first()\n",
    "mostFreqArrest            = arrestDF.orderBy(col(\"Total\").desc()).first()\n",
    "\n",
    "display(Markdown(\"\"\"\n",
    "| %s | %s | %s | %s | %s | %s |\n",
    "|----|----|----|----|----|----|\n",
    "| %s | %s | %s | %s | %s | %s |\n",
    "\"\"\" % (\"leastFreqIucrCode\", \"mostFreqIucrCode\",\"leastFreqIndexCode\",\"mostFreqIndexCode\",\"leastFreqFbiCode\", \"mostFreqFbiCode\", \\\n",
    "       \"%s (%d occurrences)\" % (leastFreqIucrCode[\"iucr\"], leastFreqIucrCode[\"Total\"]), \\\n",
    "       \"%s (%d occurrences)\" % (mostFreqIucrCode[\"iucr\"], mostFreqIucrCode[\"Total\"]), \\\n",
    "       \"%s (%d occurrences)\" % (leastFreqIndexCode[\"index_code\"], leastFreqIndexCode[\"Total\"]), \\\n",
    "       \"%s (%d occurrences)\" % (mostFreqIndexCode[\"index_code\"], mostFreqIndexCode[\"Total\"]), \\\n",
    "       \"%s (%d occurrences)\" % (leastFreqFbiCode[\"fbi_code\"], leastFreqFbiCode[\"Total\"]), \\\n",
    "       \"%s (%d occurrences)\" % (mostFreqFbiCode[\"fbi_code\"], mostFreqFbiCode[\"Total\"]))))\n",
    "display(Markdown(\"\"\"\n",
    "| %s | %s | %s | %s |\n",
    "|----|----|----|----|\n",
    "| %s | %s | %s | %s |\n",
    "\"\"\" % (\"leastFreqPrimaryType\", \"mostFreqPrimaryType\", \"leastFreqCrimeDescription\", \"mostFreqCrimeDescription\", \\\n",
    "       \"%s (%d occurrences)\" % (leastFreqPrimaryType[\"primary_type\"], leastFreqPrimaryType[\"Total\"]), \\\n",
    "       \"%s (%d occurrences)\" % (mostFreqPrimaryType[\"primary_type\"], mostFreqPrimaryType[\"Total\"]), \\\n",
    "       \"%s (%d occurrences)\" % (leastFreqCrimeDescription[\"description\"], leastFreqCrimeDescription[\"Total\"]), \\\n",
    "       \"%s (%d occurrences)\" % (mostFreqCrimeDescription[\"description\"], mostFreqCrimeDescription[\"Total\"]))))\n",
    "display(Markdown(\"\"\"\n",
    "| %s | %s | %s | %s |\n",
    "|----|----|----|----|\n",
    "| %s | %s | %s | %s |\n",
    "\"\"\" % (\"leastFreqDomestic\", \"mostFreqDomestic\", \"leastFreqArrest\", \"mostFreqArrest\", \\\n",
    "       \"%s (%d occurrences)\" % (leastFreqDomestic[\"domestic\"], leastFreqDomestic[\"Total\"]), \\\n",
    "       \"%s (%d occurrences)\" % (mostFreqDomestic[\"domestic\"], mostFreqDomestic[\"Total\"]), \\\n",
    "       \"%s (%d occurrences)\" % (leastFreqArrest[\"arrest\"], leastFreqArrest[\"Total\"]), \\\n",
    "       \"%s (%d occurrences)\" % (mostFreqArrest[\"arrest\"], mostFreqArrest[\"Total\"]))))"
   ]
  },
  {
   "cell_type": "markdown",
   "metadata": {},
   "source": [
    "### D. Basic Profiling: Socio-economic factors columns"
   ]
  },
  {
   "cell_type": "code",
   "execution_count": 26,
   "metadata": {},
   "outputs": [
    {
     "name": "stdout",
     "output_type": "stream",
     "text": [
      "Summary of columns BelowPovertyLevel, CrowdedHousing, NoHighSchoolDiploma, perCapitaIncome and Unemployment:\n",
      "+-------+------------------+------------------+-------------------+------------------+------------------+\n",
      "|summary| belowPovertyLevel|    crowdedHousing|noHighSchoolDiploma|   perCapitaIncome|      unemployment|\n",
      "+-------+------------------+------------------+-------------------+------------------+------------------+\n",
      "|  count|            312537|            312537|             312537|            312537|            312537|\n",
      "|   mean| 24.14373882132154| 5.501370717706838|  22.91644989233197|23438.705772436544|15.132684770125152|\n",
      "| stddev|10.005733134362101|3.5845176042272247| 11.663855138910087|16725.441376752173| 7.043323214748578|\n",
      "|    min|               3.1|               0.2|                2.9|              8535|               4.2|\n",
      "|    25%|              15.7|               2.9|               14.9|             13596|               9.3|\n",
      "|    50%|              24.5|               4.8|               22.0|             16938|              16.4|\n",
      "|    75%|              30.6|               7.2|               30.3|             24684|              19.0|\n",
      "|    max|              61.4|              17.6|               58.7|             87163|              40.0|\n",
      "+-------+------------------+------------------+-------------------+------------------+------------------+\n",
      "\n",
      "Checking for nulls on columns BelowPovertyLevel, CrowdedHousing, NoHighSchoolDiploma, perCapitaIncome and Unemployment:\n",
      "+-----------------+--------------+-------------------+---------------+------------+\n",
      "|belowPovertyLevel|crowdedHousing|noHighSchoolDiploma|perCapitaIncome|unemployment|\n",
      "+-----------------+--------------+-------------------+---------------+------------+\n",
      "|                0|             0|                  0|              0|           0|\n",
      "+-----------------+--------------+-------------------+---------------+------------+\n",
      "\n",
      "Checking amount of distinct values in columns BelowPovertyLevel, CrowdedHousing, NoHighSchoolDiploma, perCapitaIncome and Unemployment:\n",
      "+-----------------+--------------+-------------------+---------------+------------+\n",
      "|belowPovertyLevel|crowdedHousing|noHighSchoolDiploma|perCapitaIncome|unemployment|\n",
      "+-----------------+--------------+-------------------+---------------+------------+\n",
      "|               69|            58|                 68|             77|          63|\n",
      "+-----------------+--------------+-------------------+---------------+------------+\n",
      "\n",
      "Most and least frequent occurrences for BelowPovertyLevel, CrowdedHousing, NoHighSchoolDiploma, perCapitaIncome and Unemployment columns:\n"
     ]
    },
    {
     "data": {
      "text/markdown": [
       "\n",
       "| leastFreqPovertyLevel | mostFreqPovertyLevel | leastFreqCrowdHousing | mostFreqCrowdHousing | leastFreqUnemployment | mostFreqUnemployment |\n",
       "|----|----|----|----|----|----|\n",
       "| 5 (349 occurrences) | 27 (25144 occurrences) | 5 (483 occurrences) | 5 (25144 occurrences) | 7 (349 occurrences) | 21 (26424 occurrences) |\n"
      ],
      "text/plain": [
       "<IPython.core.display.Markdown object>"
      ]
     },
     "metadata": {},
     "output_type": "display_data"
    },
    {
     "data": {
      "text/markdown": [
       "\n",
       "| leastFreqNoHighSchool | mostFreqNoHighSchool | leastFreqPerCapitaInc | mostFreqPerCapitaInc |\n",
       "|----|----|----|----|\n",
       "| 8 (349 occurrences) | 25 (25144 occurrences) | 38337 (349 occurrences) | 15920 (25144 occurrences) |\n"
      ],
      "text/plain": [
       "<IPython.core.display.Markdown object>"
      ]
     },
     "metadata": {},
     "output_type": "display_data"
    }
   ],
   "source": [
    "from IPython.display import display, Markdown\n",
    "from pyspark.sql.functions import when, count, col, countDistinct, desc, first\n",
    "\n",
    "print (\"Summary of columns BelowPovertyLevel, CrowdedHousing, NoHighSchoolDiploma, perCapitaIncome and Unemployment:\")\n",
    "crimeDF.select(\"belowPovertyLevel\", \"crowdedHousing\", \"noHighSchoolDiploma\", \"perCapitaIncome\",\"unemployment\").summary().show()\n",
    "\n",
    "print(\"Checking for nulls on columns BelowPovertyLevel, CrowdedHousing, NoHighSchoolDiploma, perCapitaIncome and Unemployment:\")\n",
    "crimeDF.select([count(when(col(c).isNull(), c)).alias(c) for c in [\"belowPovertyLevel\", \"crowdedHousing\", \"noHighSchoolDiploma\", \"perCapitaIncome\",\"unemployment\"]]).show()\n",
    "\n",
    "\n",
    "print(\"Checking amount of distinct values in columns BelowPovertyLevel, CrowdedHousing, NoHighSchoolDiploma, perCapitaIncome and Unemployment:\")\n",
    "crimeDF.select([countDistinct(c).alias(c) for c in [\"belowPovertyLevel\", \"crowdedHousing\", \"noHighSchoolDiploma\", \"perCapitaIncome\",\"unemployment\"]]).show()\n",
    "\n",
    "print (\"Most and least frequent occurrences for BelowPovertyLevel, CrowdedHousing, NoHighSchoolDiploma, perCapitaIncome and Unemployment columns:\")\n",
    "belowPovertyLevelDF = crimeDF.groupBy(\"belowPovertyLevel\").agg(count(lit(1)).alias(\"Total\"))\n",
    "crowdedHousingDF = crimeDF.groupBy(\"crowdedHousing\").agg(count(lit(1)).alias(\"Total\"))\n",
    "noHighSchoolDiplomaDF = crimeDF.groupBy(\"noHighSchoolDiploma\").agg(count(lit(1)).alias(\"Total\"))\n",
    "perCapitaIncomeDF = crimeDF.groupBy(\"perCapitaIncome\").agg(count(lit(1)).alias(\"Total\"))\n",
    "unemploymentDF = crimeDF.groupBy(\"unemployment\").agg(count(lit(1)).alias(\"Total\"))\n",
    "\n",
    "leastFreqPovertyLevel  = belowPovertyLevelDF.orderBy(col(\"Total\").asc()).first()\n",
    "mostFreqPovertyLevel   = belowPovertyLevelDF.orderBy(col(\"Total\").desc()).first()\n",
    "\n",
    "leastFreqCrowdHousing  = crowdedHousingDF.orderBy(col(\"Total\").asc()).first()\n",
    "mostFreqCrowdHousing   = crowdedHousingDF.orderBy(col(\"Total\").desc()).first()\n",
    "\n",
    "leastFreqNoHighSchool  = noHighSchoolDiplomaDF.orderBy(col(\"Total\").asc()).first()\n",
    "mostFreqNoHighSchool   = noHighSchoolDiplomaDF.orderBy(col(\"Total\").desc()).first()\n",
    "\n",
    "leastFreqPerCapitaInc  = perCapitaIncomeDF.orderBy(col(\"Total\").asc()).first()\n",
    "mostFreqPerCapitaInc   = perCapitaIncomeDF.orderBy(col(\"Total\").desc()).first()\n",
    "\n",
    "leastFreqUnemployment  = unemploymentDF.orderBy(col(\"Total\").asc()).first()\n",
    "mostFreqUnemployment   = unemploymentDF.orderBy(col(\"Total\").desc()).first()\n",
    "\n",
    "display(Markdown(\"\"\"\n",
    "| %s | %s | %s | %s | %s | %s |\n",
    "|----|----|----|----|----|----|\n",
    "| %s | %s | %s | %s | %s | %s |\n",
    "\"\"\" % (\"leastFreqPovertyLevel\", \"mostFreqPovertyLevel\", \"leastFreqCrowdHousing\", \"mostFreqCrowdHousing\",\"leastFreqUnemployment\",\"mostFreqUnemployment\", \\\n",
    "       \"%d (%d occurrences)\" % (leastFreqPovertyLevel[\"belowPovertyLevel\"], leastFreqPovertyLevel[\"Total\"]), \\\n",
    "       \"%d (%d occurrences)\" % (mostFreqPovertyLevel[\"belowPovertyLevel\"], mostFreqPovertyLevel[\"Total\"]), \\\n",
    "       \"%d (%d occurrences)\" % (leastFreqCrowdHousing[\"crowdedHousing\"], leastFreqCrowdHousing[\"Total\"]), \\\n",
    "       \"%d (%d occurrences)\" % (mostFreqCrowdHousing[\"crowdedHousing\"], mostFreqCrowdHousing[\"Total\"]), \\\n",
    "       \"%d (%d occurrences)\" % (leastFreqUnemployment[\"unemployment\"], leastFreqUnemployment[\"Total\"]), \\\n",
    "       \"%d (%d occurrences)\" % (mostFreqUnemployment[\"unemployment\"], mostFreqUnemployment[\"Total\"]))))\n",
    "display(Markdown(\"\"\"\n",
    "| %s | %s | %s | %s |\n",
    "|----|----|----|----|\n",
    "| %s | %s | %s | %s |\n",
    "\"\"\" % (\"leastFreqNoHighSchool\", \"mostFreqNoHighSchool\", \"leastFreqPerCapitaInc\", \"mostFreqPerCapitaInc\", \\\n",
    "       \"%d (%d occurrences)\" % (leastFreqNoHighSchool[\"noHighSchoolDiploma\"], leastFreqNoHighSchool[\"Total\"]), \\\n",
    "       \"%d (%d occurrences)\" % (mostFreqNoHighSchool[\"noHighSchoolDiploma\"], mostFreqNoHighSchool[\"Total\"]), \\\n",
    "       \"%d (%d occurrences)\" % (leastFreqPerCapitaInc[\"perCapitaIncome\"], leastFreqPerCapitaInc[\"Total\"]), \\\n",
    "       \"%d (%d occurrences)\" % (mostFreqPerCapitaInc[\"perCapitaIncome\"], mostFreqPerCapitaInc[\"Total\"]))))"
   ]
  },
  {
   "cell_type": "markdown",
   "metadata": {},
   "source": [
    "# 5. Business Question Analysis"
   ]
  },
  {
   "cell_type": "markdown",
   "metadata": {},
   "source": [
    "### A1. What periods of the day are of concern for violent crimes?"
   ]
  },
  {
   "cell_type": "code",
   "execution_count": 24,
   "metadata": {},
   "outputs": [
    {
     "name": "stdout",
     "output_type": "stream",
     "text": [
      "A summary of the the Number of Indexed/Violent(FBI referenced) Crimes for each period of the day:\n",
      "+-------------+---------------------+----------------------+\n",
      "|Period_of_Day|Num_of_Violent_Crimes|Rate_of_Violent_Crimes|\n",
      "+-------------+---------------------+----------------------+\n",
      "|      Evening|                 8025|                  2.57|\n",
      "|Early Morning|                 6985|                  2.23|\n",
      "|    Afternoon|                 6795|                  2.17|\n",
      "|      Morning|                 3945|                  1.26|\n",
      "+-------------+---------------------+----------------------+\n",
      "\n"
     ]
    }
   ],
   "source": [
    "from pyspark.sql.functions import col, count, round\n",
    "\n",
    "# Period of the day is going to be categorized as required for the shifts of the determined for the police stations:\n",
    "\n",
    "#   \"Early morning\"   - 00h00 - 06h00\n",
    "#   \"Morning\"         - 06h00 - 12h00\n",
    "#   \"Afternoon\"       - 12h00 - 18h00\n",
    "#   \"Evening\"         - 18h00 - 00h00 \n",
    "totalCrimeDF = crimeDF.count()\n",
    "PeriodDayDF = crimeDF\\\n",
    "   .withColumn(\"Period_of_Day\", when(((col(\"hour\").cast(IntegerType()))>=0) & ((col(\"hour\").cast(IntegerType()))<=6),\"Early Morning\")\\\n",
    "                               .when(((col(\"hour\").cast(IntegerType()))>6) & ((col(\"hour\").cast(IntegerType()))<=12),\"Morning\")\\\n",
    "                               .when(((col(\"hour\").cast(IntegerType()))>12) & ((col(\"hour\").cast(IntegerType()))<=18),\"Afternoon\")\\\n",
    "                               .when(((col(\"hour\").cast(IntegerType()))>18) & ((col(\"hour\").cast(IntegerType()))<=23),\"Evening\"))\n",
    "\n",
    "PeriodDayDF.cache() # optimizing the process\n",
    "print(\"A summary of the the Number of Indexed/Violent(FBI referenced) Crimes for each period of the day:\")\n",
    "\n",
    "PeriodDayDF.where(col(\"index_code\")==\"I\")\\\n",
    "           .select(\"Period_of_Day\",\"hour\")\\\n",
    "           .groupBy(\"Period_of_Day\")\\\n",
    "           .agg(count(\"Period_of_Day\").alias(\"Num_of_Violent_Crimes\"),\\\n",
    "                  (count(\"Period_of_Day\")/totalCrimeDF*100).alias(\"Rate\"))\\\n",
    "           .orderBy(col(\"Num_of_Violent_Crimes\").desc())\\\n",
    "           .select(\"Period_of_Day\",\"Num_of_Violent_Crimes\",round(\"Rate\",2).alias(\"Rate_of_Violent_Crimes\")).show()\n"
   ]
  },
  {
   "cell_type": "markdown",
   "metadata": {},
   "source": [
    "### A2. What periods of the day are of concern for non-violent crimes?"
   ]
  },
  {
   "cell_type": "code",
   "execution_count": 25,
   "metadata": {},
   "outputs": [
    {
     "name": "stdout",
     "output_type": "stream",
     "text": [
      "A summary of the Number of Non-Indexed/Non-Violent Crimes for each period of the day:\n",
      "+-------------+-------------------------+--------------------------+\n",
      "|Period_of_Day|Num_of_Non_Violent_Crimes|Rate_of_Non_Violent_Crimes|\n",
      "+-------------+-------------------------+--------------------------+\n",
      "|    Afternoon|                    86009|                     27.52|\n",
      "|      Evening|                    79629|                     25.48|\n",
      "|      Morning|                    76941|                     24.62|\n",
      "|Early Morning|                    44208|                     14.14|\n",
      "+-------------+-------------------------+--------------------------+\n",
      "\n"
     ]
    }
   ],
   "source": [
    "from pyspark.sql.functions import col, count, round\n",
    "\n",
    "totalCrimeDF = crimeDF.count()\n",
    "PeriodDayDF = crimeDF\\\n",
    "   .withColumn(\"Period_of_Day\", when(((col(\"hour\").cast(IntegerType()))>=0) & ((col(\"hour\").cast(IntegerType()))<=6),\"Early Morning\")\\\n",
    "                               .when(((col(\"hour\").cast(IntegerType()))>6) & ((col(\"hour\").cast(IntegerType()))<=12),\"Morning\")\\\n",
    "                               .when(((col(\"hour\").cast(IntegerType()))>12) & ((col(\"hour\").cast(IntegerType()))<=18),\"Afternoon\")\\\n",
    "                               .when(((col(\"hour\").cast(IntegerType()))>18) & ((col(\"hour\").cast(IntegerType()))<=23),\"Evening\"))\n",
    "\n",
    "PeriodDayDF.cache() # optimizing the process\n",
    "print(\"A summary of the Number of Non-Indexed/Non-Violent Crimes for each period of the day:\")\n",
    "\n",
    "PeriodDayDF.where(col(\"index_code\")==\"N\")\\\n",
    "           .select(\"Period_of_Day\",\"hour\")\\\n",
    "           .groupBy(\"Period_of_Day\")\\\n",
    "           .agg(count(\"Period_of_Day\").alias(\"Num_of_Non_Violent_Crimes\"),\\\n",
    "                  (count(\"Period_of_Day\")/totalCrimeDF*100).alias(\"Rate\"))\\\n",
    "           .orderBy(col(\"Num_of_Non_Violent_Crimes\").desc())\\\n",
    "           .select(\"Period_of_Day\",\"Num_of_Non_Violent_Crimes\",round(\"Rate\",2).alias(\"Rate_of_Non_Violent_Crimes\")).show()\n"
   ]
  },
  {
   "cell_type": "code",
   "execution_count": 44,
   "metadata": {},
   "outputs": [
    {
     "name": "stdout",
     "output_type": "stream",
     "text": [
      "+---------------------------------+\n",
      "|primary_type                     |\n",
      "+---------------------------------+\n",
      "|ARSON                            |\n",
      "|ASSAULT                          |\n",
      "|BATTERY                          |\n",
      "|CONCEALED CARRY LICENSE VIOLATION|\n",
      "|CRIMINAL DAMAGE                  |\n",
      "|CRIMINAL TRESPASS                |\n",
      "|DECEPTIVE PRACTICE               |\n",
      "|GAMBLING                         |\n",
      "|HUMAN TRAFFICKING                |\n",
      "|INTERFERENCE WITH PUBLIC OFFICER |\n",
      "|INTIMIDATION                     |\n",
      "|KIDNAPPING                       |\n",
      "|LIQUOR LAW VIOLATION             |\n",
      "|NARCOTICS                        |\n",
      "|NON-CRIMINAL                     |\n",
      "|OBSCENITY                        |\n",
      "|OFFENSE INVOLVING CHILDREN       |\n",
      "|OTHER NARCOTIC VIOLATION         |\n",
      "|OTHER OFFENSE                    |\n",
      "|PROSTITUTION                     |\n",
      "|PUBLIC INDECENCY                 |\n",
      "|PUBLIC PEACE VIOLATION           |\n",
      "|ROBBERY                          |\n",
      "|SEX OFFENSE                      |\n",
      "|WEAPONS VIOLATION                |\n",
      "+---------------------------------+\n",
      "\n"
     ]
    }
   ],
   "source": [
    "crimeDF.select(col(\"primary_type\")).distinct().show(30,truncate=False)"
   ]
  },
  {
   "cell_type": "markdown",
   "metadata": {},
   "source": [
    "### B1. Which sides of Chicago are of concern for violent crimes?"
   ]
  },
  {
   "cell_type": "code",
   "execution_count": 26,
   "metadata": {},
   "outputs": [
    {
     "name": "stdout",
     "output_type": "stream",
     "text": [
      "A summary of the Number of Indexed/Violent Crimes for each side of Chicago:\n",
      "+---------------+---------------------+----------------------+\n",
      "|Side_of_Chicago|Num_of_Violent_Crimes|Rate_of_Violent_Crimes|\n",
      "+---------------+---------------------+----------------------+\n",
      "|      Southside|                14345|                  4.59|\n",
      "|        Central|                 8194|                  2.62|\n",
      "|      Northside|                 3211|                  1.03|\n",
      "+---------------+---------------------+----------------------+\n",
      "\n"
     ]
    }
   ],
   "source": [
    "from pyspark.sql.functions import col, count, round\n",
    "\n",
    "# The sides of Chicago's which encompass the 77 community areas and subsequent neighbourhoods will combined by joining:\n",
    "# Far Southwest Side + Far Southeast side + Northwest side + Southwest side => SouthSide\n",
    "# Far North Side +  Far Southeast side + North side => NorthSide\n",
    "# Westside + Central => Central \n",
    "\n",
    "totCrimeDF = crimeDF.count()\n",
    "SideofChicagoDF = crimeDF\\\n",
    "   .withColumn(\"Side_of_Chicago\", when((col(\"communityAreaSide\")==\"Far Southwest side\") | (col(\"communityAreaSide\")==\"Far Southeast side\") | (col(\"communityAreaSide\")==\"Southwest side\") | (col(\"communityAreaSide\")==\"South side\"),\"Southside\")\\\n",
    "                                 .when((col(\"communityAreaSide\")==\"Far North side\") | (col(\"communityAreaSide\")==\"North side\") | (col(\"communityAreaSide\")==\"Northwest side\"),\"Northside\")\\\n",
    "                                 .when((col(\"communityAreaSide\")==\"Central\") | (col(\"communityAreaSide\") ==\"West side\"),\"Central\"))\\\n",
    "\n",
    "SideofChicagoDF.cache() # optimizing the process\n",
    "print(\"A summary of the Number of Indexed/Violent Crimes for each side of Chicago:\")\n",
    "\n",
    "SideofChicagoDF.where(col(\"index_code\")==\"I\")\\\n",
    "           .select(\"Side_of_Chicago\",\"communityAreaSide\")\\\n",
    "           .groupBy(\"Side_of_Chicago\")\\\n",
    "           .agg(count(\"Side_of_Chicago\").alias(\"Num_of_Violent_Crimes\"),\\\n",
    "                  (count(\"Side_of_Chicago\")/totCrimeDF*100).alias(\"Rate\"))\\\n",
    "           .orderBy(col(\"Num_of_Violent_Crimes\").desc())\\\n",
    "           .select(\"Side_of_Chicago\",\"Num_of_Violent_Crimes\",round(\"Rate\",2).alias(\"Rate_of_Violent_Crimes\")).show()"
   ]
  },
  {
   "cell_type": "markdown",
   "metadata": {},
   "source": [
    "### B2. Which sides of Chicago are of concern for Non-Violent/Non-violent crimes?"
   ]
  },
  {
   "cell_type": "code",
   "execution_count": 41,
   "metadata": {},
   "outputs": [
    {
     "name": "stdout",
     "output_type": "stream",
     "text": [
      "A summary of the Number of Non-Indexed/non-violent Crimes for each side of Chicago:\n",
      "+---------------+-------------------------+--------------------------+\n",
      "|Side_of_Chicago|Num_of_Non_Violent_Crimes|Rate_of_Non_Violent_Crimes|\n",
      "+---------------+-------------------------+--------------------------+\n",
      "|      Southside|                   131487|                     42.07|\n",
      "|        Central|                    98350|                     31.47|\n",
      "|      Northside|                    56950|                     18.22|\n",
      "+---------------+-------------------------+--------------------------+\n",
      "\n"
     ]
    }
   ],
   "source": [
    "totCrimeDF = crimeDF.count()\n",
    "SideofChicagoDF = crimeDF\\\n",
    "   .withColumn(\"Side_of_Chicago\", when((col(\"communityAreaSide\")==\"Far Southwest side\") | (col(\"communityAreaSide\")==\"Far Southeast side\") | (col(\"communityAreaSide\")==\"Southwest side\") | (col(\"communityAreaSide\")==\"South side\"),\"Southside\")\\\n",
    "                                 .when((col(\"communityAreaSide\")==\"Far North side\") | (col(\"communityAreaSide\")==\"North side\") | (col(\"communityAreaSide\")==\"Northwest side\"),\"Northside\")\\\n",
    "                                 .when((col(\"communityAreaSide\")==\"Central\") | (col(\"communityAreaSide\") ==\"West side\"),\"Central\"))\\\n",
    "\n",
    "SideofChicagoDF.cache() # optimizing the process\n",
    "print(\"A summary of the Number of Non-Indexed/non-violent Crimes for each side of Chicago:\")\n",
    "\n",
    "SideofChicagoDF.where(col(\"index_code\")==\"N\")\\\n",
    "           .select(\"Side_of_Chicago\",\"communityAreaSide\")\\\n",
    "           .groupBy(\"Side_of_Chicago\")\\\n",
    "           .agg(count(\"Side_of_Chicago\").alias(\"Num_of_Non_Violent_Crimes\"),\\\n",
    "                  (count(\"Side_of_Chicago\")/totCrimeDF*100).alias(\"Rate\"))\\\n",
    "           .orderBy(col(\"Num_of_Non_Violent_Crimes\").desc())\\\n",
    "           .select(\"Side_of_Chicago\",\"Num_of_Non_Violent_Crimes\",round(\"Rate\",2).alias(\"Rate_of_Non_Violent_Crimes\")).show()"
   ]
  },
  {
   "cell_type": "markdown",
   "metadata": {},
   "source": [
    "### C1. Which 10 police station have the highest arrests for domestic violence rates for?"
   ]
  },
  {
   "cell_type": "code",
   "execution_count": 38,
   "metadata": {},
   "outputs": [
    {
     "name": "stdout",
     "output_type": "stream",
     "text": [
      "Summary of the arrests which occurred for domestic violence for each Police Station\n",
      "+--------------+-----------------------------+---------------------------------------+\n",
      "|  districtName|Domestic Violence Arrest Rate|Domestic Violence Cases/Reported Crimes|\n",
      "+--------------+-----------------------------+---------------------------------------+\n",
      "| South Chicago|                          384|                                   1.28|\n",
      "| Grand Central|                          345|                                   1.15|\n",
      "|       Gresham|                          335|                                   1.12|\n",
      "|      Harrison|                          317|                                   1.06|\n",
      "|       Calumet|                          309|                                   1.03|\n",
      "|     Englewood|                          304|                                   1.01|\n",
      "|  Chicago Lawn|                          286|                                   0.95|\n",
      "|        Austin|                          286|                                   0.95|\n",
      "|Grand Crossing|                          276|                                   0.92|\n",
      "|         Ogden|                          263|                                   0.88|\n",
      "+--------------+-----------------------------+---------------------------------------+\n",
      "only showing top 10 rows\n",
      "\n"
     ]
    }
   ],
   "source": [
    "totCrimeDF = crimeDF.where(col(\"domestic\")==True).count()\n",
    "\n",
    "print(\"Summary of the arrests which occurred for domestic violence for each Police Station\")\n",
    "crimeDF.where((col(\"arrest\")==True) & ((col(\"domestic\")==True)))\\\n",
    "           .select(\"districtName\",\"arrest\",\"domestic\")\\\n",
    "           .groupBy(\"districtName\")\\\n",
    "           .agg(count(\"districtName\").alias(\"Domestic Violence Arrest Rate\"),\\\n",
    "                  (count(\"districtName\")/totCrimeDF*100).alias(\"Rate\"))\\\n",
    "           .orderBy(col(\"Domestic Violence Arrest Rate\").desc())\\\n",
    "           .select(\"districtName\",\"Domestic Violence Arrest Rate\",round(\"Rate\",2).alias(\"Domestic Violence Cases/Reported Crimes\")).show(10)"
   ]
  },
  {
   "cell_type": "markdown",
   "metadata": {},
   "source": [
    "### C2. For those who commit domestic violence, how many are actually arrested (top 10)?"
   ]
  },
  {
   "cell_type": "code",
   "execution_count": 40,
   "metadata": {},
   "outputs": [
    {
     "name": "stdout",
     "output_type": "stream",
     "text": [
      "Summary of the domestic violence related crime where no arrest happenned for each Police Stations\n",
      "+--------------+-----------------------------+---------------------------------------+\n",
      "|  districtName|Domestic Violence Arrest Rate|Domestic Violence Cases/Reported Crimes|\n",
      "+--------------+-----------------------------+---------------------------------------+\n",
      "|       Gresham|                         2080|                                   6.94|\n",
      "|  Chicago Lawn|                         1862|                                   6.22|\n",
      "| South Chicago|                         1859|                                   6.21|\n",
      "|      Harrison|                         1842|                                   6.15|\n",
      "|     Englewood|                         1801|                                   6.01|\n",
      "|Grand Crossing|                         1745|                                   5.82|\n",
      "| Grand Central|                         1535|                                   5.12|\n",
      "|       Calumet|                         1486|                                   4.96|\n",
      "|        Austin|                         1307|                                   4.36|\n",
      "|         Ogden|                         1277|                                   4.26|\n",
      "+--------------+-----------------------------+---------------------------------------+\n",
      "only showing top 10 rows\n",
      "\n"
     ]
    }
   ],
   "source": [
    "totCrimeDF = crimeDF.where(col(\"domestic\")==True).count()\n",
    "\n",
    "print(\"Summary of the domestic violence related crime where no arrest happenned for each Police Stations\")\n",
    "crimeDF.where((col(\"arrest\")==False) & ((col(\"domestic\")==True)))\\\n",
    "           .select(\"districtName\",\"arrest\",\"domestic\")\\\n",
    "           .groupBy(\"districtName\")\\\n",
    "           .agg(count(\"districtName\").alias(\"Domestic Violence Arrest Rate\"),\\\n",
    "                  (count(\"districtName\")/totCrimeDF*100).alias(\"Rate\"))\\\n",
    "           .orderBy(col(\"Domestic Violence Arrest Rate\").desc())\\\n",
    "           .select(\"districtName\",\"Domestic Violence Arrest Rate\",round(\"Rate\",2).alias(\"Domestic Violence Cases/Reported Crimes\")).show(10)"
   ]
  },
  {
   "cell_type": "markdown",
   "metadata": {},
   "source": [
    "### D. Is there seasonality with robberies?\n"
   ]
  },
  {
   "cell_type": "code",
   "execution_count": 39,
   "metadata": {},
   "outputs": [
    {
     "name": "stdout",
     "output_type": "stream",
     "text": [
      "A summary of the number of the robberies for each season:\n",
      "+-------+----------------+--------------------------+\n",
      "|Seasons|Num_of_Robberies|Seasonal_Rate_of_Robberies|\n",
      "+-------+----------------+--------------------------+\n",
      "| Summer|            3445|                       1.1|\n",
      "| Autumn|            2985|                      0.96|\n",
      "| Winter|            2832|                      0.91|\n",
      "| Spring|            2690|                      0.86|\n",
      "+-------+----------------+--------------------------+\n",
      "\n"
     ]
    }
   ],
   "source": [
    "from pyspark.sql.functions import lower, upper\n",
    "# Seasons is going to be categorized as required for the shifts of the determined for the police stations:\n",
    "\n",
    "# According to the \n",
    "#   \"Winter\"   -> (1 December - 28/29 February) 12,1,2\n",
    "#   \"Spring\"   -> (1 March - 31 May) 3,4,5\n",
    "#   \"Summer\"   -> (1 June  - 31 August) 6,7,8\n",
    "#   \"Autumn\"   -> (1 September - 30 November) 9,10,11\n",
    "totalCrimeDF = crimeDF.count()\n",
    "quartersDF = crimeDF\\\n",
    "   .withColumn(\"Seasons\", when(((col(\"month\").cast(IntegerType()))==1) | ((col(\"month\").cast(IntegerType()))==2) | ((col(\"month\").cast(IntegerType()))==12),\"Winter\")\\\n",
    "                               .when(((col(\"month\").cast(IntegerType()))>=3) & ((col(\"month\").cast(IntegerType()))<=5),\"Spring\")\\\n",
    "                               .when(((col(\"month\").cast(IntegerType()))>=6) & ((col(\"month\").cast(IntegerType()))<=8),\"Summer\")\\\n",
    "                               .when(((col(\"month\").cast(IntegerType()))>=9) & ((col(\"month\").cast(IntegerType()))<=11),\"Autumn\"))\\\n",
    "\n",
    "\n",
    "quartersDF.cache() # optimizing the process\n",
    "print(\"A summary of the number of the robberies for each season:\")\n",
    "\n",
    "quartersDF.where(col(\"primary_type\")==\"ROBBERY\")\\\n",
    "          .select(\"Seasons\",\"month\")\\\n",
    "          .groupBy(\"Seasons\")\\\n",
    "          .agg(count(\"Seasons\").alias(\"Num_of_Robberies\"),\\\n",
    "                 (count(\"Seasons\")/totalCrimeDF*100).alias(\"Rate\"))\\\n",
    "          .orderBy(col(\"Num_of_Robberies\").desc())\\\n",
    "          .select(\"Seasons\",\"Num_of_Robberies\",round(\"Rate\",2).alias(\"Seasonal_Rate_of_Robberies\")).show()\n"
   ]
  },
  {
   "cell_type": "markdown",
   "metadata": {},
   "source": [
    "### E. What is the socio-economic profile of the communities most affected by domestic violence?"
   ]
  },
  {
   "cell_type": "code",
   "execution_count": 62,
   "metadata": {},
   "outputs": [
    {
     "data": {
      "text/markdown": [
       "**Statistics of percentage of constituents living below the national poverty Level:**"
      ],
      "text/plain": [
       "<IPython.core.display.Markdown object>"
      ]
     },
     "metadata": {},
     "output_type": "display_data"
    },
    {
     "name": "stdout",
     "output_type": "stream",
     "text": [
      "+---------------+----------------------+---------------------+----------------------+----------------------+\n",
      "|Side_of_Chicago|AveragebelowPovertyLvl|LowestbelowPovertyLvl|HighestbelowPovertyLvl|StdDevbelowPovertyLevl|\n",
      "+---------------+----------------------+---------------------+----------------------+----------------------+\n",
      "|        Central|     28.96376089663761|                   11|                    40|     8.254457194277899|\n",
      "|      Northside|    14.262842294623226|                    5|                    22|     4.833066217722259|\n",
      "|      Southside|    25.313264401772525|                    3|                    61|     9.414529471528521|\n",
      "+---------------+----------------------+---------------------+----------------------+----------------------+\n",
      "\n"
     ]
    },
    {
     "data": {
      "text/markdown": [
       "**Statistics of percentage of constituents who live in Crowded Housing:**"
      ],
      "text/plain": [
       "<IPython.core.display.Markdown object>"
      ]
     },
     "metadata": {},
     "output_type": "display_data"
    },
    {
     "name": "stdout",
     "output_type": "stream",
     "text": [
      "+---------------+-----------------+--------------------+---------------------+--------------------+\n",
      "|Side_of_Chicago|AvgCrowdedHousing|LowestCrowdedHousing|HighestCrowdedHousing|StdDevCrowdedHousing|\n",
      "+---------------+-----------------+--------------------+---------------------+--------------------+\n",
      "|        Central|6.744582814445828|                   1|                   17|    3.76917011249918|\n",
      "|      Northside|5.003997601439137|                   0|                   11|   3.085348644657619|\n",
      "|      Southside|4.133234859675037|                   0|                   17|  3.1317723156200983|\n",
      "+---------------+-----------------+--------------------+---------------------+--------------------+\n",
      "\n"
     ]
    },
    {
     "data": {
      "text/markdown": [
       "**Statistics of percentage of constituents with no High school diploma:**"
      ],
      "text/plain": [
       "<IPython.core.display.Markdown object>"
      ]
     },
     "metadata": {},
     "output_type": "display_data"
    },
    {
     "name": "stdout",
     "output_type": "stream",
     "text": [
      "+---------------+------------------+------------------+-------------------+------------------+\n",
      "|Side_of_Chicago|   AvgNoHighSchool|LowestNoHighSchool|HighestNoHighSchool|StdDevNoHighSchool|\n",
      "+---------------+------------------+------------------+-------------------+------------------+\n",
      "|        Central| 26.46027397260274|                 3|                 58|12.330175706582406|\n",
      "|      Northside|20.092344593244054|                 2|                 41|10.392894806289652|\n",
      "|      Southside|22.360236336779913|                 4|                 54|  9.70613671827135|\n",
      "+---------------+------------------+------------------+-------------------+------------------+\n",
      "\n"
     ]
    },
    {
     "data": {
      "text/markdown": [
       "**Income per Capita stats for those affected by domestic violence:**"
      ],
      "text/plain": [
       "<IPython.core.display.Markdown object>"
      ]
     },
     "metadata": {},
     "output_type": "display_data"
    },
    {
     "name": "stdout",
     "output_type": "stream",
     "text": [
      "+---------------+------------------+---------------------+----------------------+---------------------+\n",
      "|Side_of_Chicago|AvgIncomePerCapita|LowestIncomePerCapita|HighestIncomePerCapita|StdDevIncomePerCapita|\n",
      "+---------------+------------------+---------------------+----------------------+---------------------+\n",
      "|        Central| 22107.09887920299|                10697|                 87163|    18408.65010712782|\n",
      "|      Northside| 27861.60663601839|                15246|                 71403|   12245.018324692817|\n",
      "|      Southside|17586.809098966027|                 8535|                 40107|    5440.463682533126|\n",
      "+---------------+------------------+---------------------+----------------------+---------------------+\n",
      "\n"
     ]
    },
    {
     "data": {
      "text/markdown": [
       "**Unemployment Rate for those affected by domestic violence:**"
      ],
      "text/plain": [
       "<IPython.core.display.Markdown object>"
      ]
     },
     "metadata": {},
     "output_type": "display_data"
    },
    {
     "name": "stdout",
     "output_type": "stream",
     "text": [
      "+---------------+-------------------+----------------------+-----------------------+----------------------+\n",
      "|Side_of_Chicago|AvgUnemploymentRate|LowestUnemploymentRate|HighestUnemploymentRate|StdDevUnemploymentRate|\n",
      "+---------------+-------------------+----------------------+-----------------------+----------------------+\n",
      "|        Central| 15.569987546699876|                     4|                     25|     5.888554468845799|\n",
      "|      Northside|  8.176693983609834|                     4|                     12|    2.1752397193328266|\n",
      "|      Southside| 17.913382570162483|                     6|                     40|    6.2388876340969075|\n",
      "+---------------+-------------------+----------------------+-----------------------+----------------------+\n",
      "\n"
     ]
    }
   ],
   "source": [
    "from pyspark.sql.functions import max, min, avg, stddev\n",
    "from pyspark.sql.types import IntegerType\n",
    "profileDF =\\\n",
    "SideofChicagoDF.where((col(\"domestic\")==True))\\\n",
    "       .withColumn(\"PercbelowPovertyLevel\", col(\"belowPovertyLevel\").cast(IntegerType()))\\\n",
    "       .withColumn(\"crowded_Housing\", col(\"crowdedHousing\").cast(IntegerType()))\\\n",
    "       .withColumn(\"noHighSchool\", col(\"noHighSchoolDiploma\").cast(IntegerType()))\\\n",
    "       .withColumn(\"incomePerCapita\", col(\"perCapitaIncome\").cast(IntegerType()))\\\n",
    "       .withColumn(\"unemploymentRate\", col(\"unemployment\").cast(IntegerType()))\\\n",
    "       .select(\"Side_of_Chicago\", \"PercbelowPovertyLevel\",\"crowded_Housing\",\"noHighSchool\",\\\n",
    "                               \"incomePerCapita\", \"unemploymentRate\")\n",
    "profileDF.cache() # optimization to make the processing faster\n",
    "\n",
    "display(Markdown(\"**Statistics of percentage of constituents living below the national poverty Level:**\"))\n",
    "profileDF.groupBy(\"Side_of_Chicago\")\\\n",
    "              .agg(avg(\"PercbelowPovertyLevel\").alias(\"AveragebelowPovertyLvl\"),\\\n",
    "                   min(\"PercbelowPovertyLevel\").alias(\"LowestbelowPovertyLvl\"),\\\n",
    "                   max(\"PercbelowPovertyLevel\").alias(\"HighestbelowPovertyLvl\"),\\\n",
    "                   stddev(\"PercbelowPovertyLevel\").alias(\"StdDevbelowPovertyLevl\"))\\\n",
    "              .orderBy(\"Side_of_Chicago\").show()\n",
    "display(Markdown(\"**Statistics of percentage of constituents who live in Crowded Housing:**\"))\n",
    "profileDF.groupBy(\"Side_of_Chicago\")\\\n",
    "              .agg(avg(\"crowded_Housing\").alias(\"AvgCrowdedHousing\"),\\\n",
    "                   min(\"crowded_Housing\").alias(\"LowestCrowdedHousing\"),\\\n",
    "                   max(\"crowded_Housing\").alias(\"HighestCrowdedHousing\"),\\\n",
    "                   stddev(\"crowded_Housing\").alias(\"StdDevCrowdedHousing\"))\\\n",
    "              .orderBy(\"Side_of_Chicago\").show()\n",
    "\n",
    "display(Markdown(\"**Statistics of percentage of constituents with no High school diploma:**\"))\n",
    "profileDF.groupBy(\"Side_of_Chicago\")\\\n",
    "              .agg(avg(\"noHighSchool\").alias(\"AvgNoHighSchool\"),\\\n",
    "                   min(\"noHighSchool\").alias(\"LowestNoHighSchool\"),\\\n",
    "                   max(\"noHighSchool\").alias(\"HighestNoHighSchool\"),\\\n",
    "                   stddev(\"noHighSchool\").alias(\"StdDevNoHighSchool\"))\\\n",
    "              .orderBy(\"Side_of_Chicago\").show()\n",
    "\n",
    "display(Markdown(\"**Income per Capita stats for those affected by domestic violence:**\"))\n",
    "profileDF.groupBy(\"Side_of_Chicago\")\\\n",
    "              .agg(avg(\"incomePerCapita\").alias(\"AvgIncomePerCapita\"),\\\n",
    "                   min(\"incomePerCapita\").alias(\"LowestIncomePerCapita\"),\\\n",
    "                   max(\"incomePerCapita\").alias(\"HighestIncomePerCapita\"),\\\n",
    "                   stddev(\"incomePerCapita\").alias(\"StdDevIncomePerCapita\"))\\\n",
    "              .orderBy(\"Side_of_Chicago\").show()\n",
    "\n",
    "display(Markdown(\"**Unemployment Rate for those affected by domestic violence:**\"))\n",
    "profileDF.groupBy(\"Side_of_Chicago\")\\\n",
    "              .agg(avg(\"unemploymentRate\").alias(\"AvgUnemploymentRate\"),\\\n",
    "                   min(\"unemploymentRate\").alias(\"LowestUnemploymentRate\"),\\\n",
    "                   max(\"unemploymentRate\").alias(\"HighestUnemploymentRate\"),\\\n",
    "                   stddev(\"unemploymentRate\").alias(\"StdDevUnemploymentRate\"))\\\n",
    "              .orderBy(\"Side_of_Chicago\").show()\n"
   ]
  },
  {
   "cell_type": "code",
   "execution_count": null,
   "metadata": {},
   "outputs": [],
   "source": []
  }
 ],
 "metadata": {
  "kernelspec": {
   "display_name": "Python 3",
   "language": "python",
   "name": "python3"
  },
  "language_info": {
   "codemirror_mode": {
    "name": "ipython",
    "version": 3
   },
   "file_extension": ".py",
   "mimetype": "text/x-python",
   "name": "python",
   "nbconvert_exporter": "python",
   "pygments_lexer": "ipython3",
   "version": "3.7.3"
  }
 },
 "nbformat": 4,
 "nbformat_minor": 2
}
