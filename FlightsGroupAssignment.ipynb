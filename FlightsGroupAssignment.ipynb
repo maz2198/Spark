{
 "cells": [
  {
   "cell_type": "markdown",
   "metadata": {},
   "source": [
    "# Group Assigment: C"
   ]
  },
  {
   "cell_type": "code",
   "execution_count": 1,
   "metadata": {},
   "outputs": [],
   "source": [
    "import findspark\n",
    "findspark.init()"
   ]
  },
  {
   "cell_type": "code",
   "execution_count": 2,
   "metadata": {},
   "outputs": [
    {
     "data": {
      "text/plain": [
       "'/opt/spark-2.4.4-bin-hadoop2.7'"
      ]
     },
     "execution_count": 2,
     "metadata": {},
     "output_type": "execute_result"
    }
   ],
   "source": [
    "findspark.find()\n",
    "import pyspark\n",
    "findspark.find()"
   ]
  },
  {
   "cell_type": "code",
   "execution_count": 3,
   "metadata": {},
   "outputs": [],
   "source": [
    "from pyspark import SparkContext, SparkConf\n",
    "from pyspark.sql import SparkSession\n",
    "\n",
    "conf = pyspark.SparkConf().setAppName('appName').setMaster('local[4]')\n",
    "sc = pyspark.SparkContext(conf=conf)\n",
    "spark = SparkSession(sc)"
   ]
  },
  {
   "cell_type": "code",
   "execution_count": 4,
   "metadata": {},
   "outputs": [],
   "source": [
    "from pyspark.sql import *\n",
    "from pyspark.sql.functions import *\n",
    "from pyspark.sql.types import *\n",
    "from pyspark.sql.window import Window, WindowSpec"
   ]
  },
  {
   "cell_type": "markdown",
   "metadata": {},
   "source": [
    "## Introduction to the Flights dataset"
   ]
  },
  {
   "cell_type": "markdown",
   "metadata": {},
   "source": [
    "According to a 2010 report made by the US Federal Aviation Administration, the economic price of domestic flight delays generates yearly costs of USD 32.9 billion to passengers, airlines and other parts of the economy. More than half of that amount comes from the pockets of passengers, as they do not only waste time waiting for their planes to leave, but also in missed connecting flights, money spent not only on food but also sleeping on hotel rooms while they're stranded.\n",
    "\n",
    "The report, focusing on data from the year 2007, estimated that air transportation delays put a a dent of USD 4 billion in the country's gross domestic product in that year. The full report can be found in the following link: \n",
    "<a href=\"http://www.isr.umd.edu/NEXTOR/pubs/TDI_Report_Final_10_18_10_V3.pdf\">here</a>.\n",
    "\n",
    "But which are the causes for these delays?\n",
    "\n",
    "In order to answer this question, we are going to analyze the provided dataset, containing up to 1.936.758 different internal flights in the US for 2008 and the causes for their delays, diversions and cancellations; if any.\n",
    "\n",
    "The data comes from the U.S. Department of Transportation's (DOT) Bureau of Transportation Statistics (BTS)\n",
    "\n",
    "This dataset is composed by the following variables:\n",
    "1. **Year** 2008\n",
    "2. **Month** 1\n",
    "3. **DayofMonth** 1-31\n",
    "4. **DayOfWeek** 1 (Monday) - 7 (Sunday)\n",
    "5. **DepTime** actual departure time (local, hhmm)\n",
    "6. **CRSDepTime** scheduled departure time (local, hhmm)\n",
    "7. **ArrTime** actual arrival time (local, hhmm)\n",
    "8. **CRSArrTime** scheduled arrival time (local, hhmm)\n",
    "9. **UniqueCarrie**r unique carrier code\n",
    "10. **FlightNum** flight number\n",
    "11. **TailNum** plane tail number: aircraft registration, unique aircraft identifier\n",
    "12. **ActualElapsedTime** in minutes\n",
    "13. **CRSElapsedTime** in minutes\n",
    "14. **AirTime** in minutes\n",
    "15. **ArrDelay** arrival delay, in minutes: A flight is counted as \"on time\" if it operated less than 15 minutes later the scheduled time shown in the carriers' Computerized Reservations Systems (CRS).\n",
    "16. **DepDelay** departure delay, in minutes\n",
    "17. **Origin** origin IATA airport code\n",
    "18. **Dest** destination IATA airport code\n",
    "19. **Distance** in miles\n",
    "20. **TaxiIn** taxi in time, in minutes\n",
    "21. **TaxiOut** taxi out time in minutes\n",
    "22. **Cancelled** *was the flight cancelled\n",
    "23. **CancellationCode** reason for cancellation (A = carrier, B = weather, C = NAS, D = security)\n",
    "24. **Diverted** 1 = yes, 0 = no\n",
    "25. **CarrierDelay** in minutes: Carrier delay is within the control of the air carrier. Examples of occurrences that may determine carrier delay are: aircraft cleaning, aircraft damage, awaiting the arrival of connecting passengers or crew, baggage, bird strike, cargo loading, catering, computer, outage-carrier equipment, crew legality (pilot or attendant rest), damage by hazardous goods, engineering inspection, fueling, handling disabled passengers, late crew, lavatory servicing, maintenance, oversales, potable water servicing, removal of unruly passenger, slow boarding or seating, stowing carry-on baggage, weight and balance delays.\n",
    "26. **WeatherDelay** in minutes: Weather delay is caused by extreme or hazardous weather conditions that are forecasted or manifest themselves on point of departure, enroute, or on point of arrival.\n",
    "27. **NASDelay** in minutes: Delay that is within the control of the National Airspace System (NAS) may include: non-extreme weather conditions, airport operations, heavy traffic volume, air traffic control, etc.\n",
    "28. **SecurityDelay** in minutes: Security delay is caused by evacuation of a terminal or concourse, re-boarding of aircraft because of security breach, inoperative screening equipment and/or long lines in excess of 29 minutes at screening areas.\n",
    "29. **LateAircraftDelay** in minutes: Arrival delay at an airport due to the late arrival of the same aircraft at a previous airport. The ripple effect of an earlier delay at downstream airports is referred to as delay propagation"
   ]
  },
  {
   "cell_type": "markdown",
   "metadata": {},
   "source": [
    "Read the CSV file using Spark's default delimiter (\",\"). The first line contains the headers so it is not part of the data. Hence we set the header option to true."
   ]
  },
  {
   "cell_type": "code",
   "execution_count": 5,
   "metadata": {},
   "outputs": [
    {
     "data": {
      "text/plain": [
       "DataFrame[IATA_CODE: string, LINK: string, LOCATION: string, TYPE: string, NAME: string, TERMINALS: int, RUNWAYS: int, BUILD_DATE: int, CITY_POPULATION: int]"
      ]
     },
     "execution_count": 5,
     "metadata": {},
     "output_type": "execute_result"
    }
   ],
   "source": [
    "flightsDF = spark.read.option(\"inferSchema\", \"true\").option(\"header\", \"true\").csv(\"flights_jan08.csv\")\n",
    "airportsDF = spark.read.option(\"inferSchema\", \"true\").option(\"header\", \"true\").csv(\"Airports.csv\")\n",
    "flightsDF.cache()\n",
    "airportsDF.cache()"
   ]
  },
  {
   "cell_type": "markdown",
   "metadata": {},
   "source": [
    "## Your topic: Arrival Delay related to the morphology of the arrival airport"
   ]
  },
  {
   "cell_type": "markdown",
   "metadata": {},
   "source": [
    "The team's goal was to investigate what happens in each of the cities, and if there is a relation between the city and the delay that goes beyond the airports. For that purpose, **you have to get a small dataset with features of the airport**, such as the number of terminals, the build year, the average length of the arriving runway, the number of runways as well as other metrics. No need for a lot of features, just 4 or 5 are fine. Once you have it, answer the following questions:\n",
    "\n",
    "* Is there a relation between the year it was built and the number of flights arriving to it?\n",
    "* Are modern airports located mostly in large cities or not necessarily?\n",
    "* Do airports with more terminals have larger delays, or is the opposite true? What about the runways?\n",
    "* Is there any threshold in the average arriving flights per terminal, so that above that value the delays tend to increase a lot?\n",
    "* Discretize the arrival delay as in the reference notebook, and relate it to the average number of arriving flights per runway. Is there a relation? Support your conclusions with data."
   ]
  },
  {
   "cell_type": "markdown",
   "metadata": {},
   "source": [
    "## Business Questions:"
   ]
  },
  {
   "cell_type": "markdown",
   "metadata": {},
   "source": [
    "### 1. Is there a relation between the year it was built and the number of flights arriving to it?"
   ]
  },
  {
   "cell_type": "code",
   "execution_count": 6,
   "metadata": {},
   "outputs": [
    {
     "data": {
      "text/plain": [
       "DataFrame[Year: int, Month: int, DayofMonth: int, DayOfWeek: int, DepTime: string, CRSDepTime: int, ArrTime: string, CRSArrTime: int, UniqueCarrier: string, FlightNum: int, TailNum: string, ActualElapsedTime: string, CRSElapsedTime: int, AirTime: string, ArrDelay: string, DepDelay: string, Origin: string, Dest: string, Distance: int, TaxiIn: string, TaxiOut: string, Cancelled: int, CancellationCode: string, Diverted: int, CarrierDelay: string, WeatherDelay: string, NASDelay: string, SecurityDelay: string, LateAircraftDelay: string, IATA_CODE: string, LINK: string, LOCATION: string, TYPE: string, NAME: string, TERMINALS: int, RUNWAYS: int, BUILD_DATE: int, CITY_POPULATION: int, YEARS_BUILT: int, AGE_CATEGORY: string, CITY_SIZE: string]"
      ]
     },
     "execution_count": 6,
     "metadata": {},
     "output_type": "execute_result"
    }
   ],
   "source": [
    "DestDF = flightsDF.join(airportsDF,col('Dest')==col('IATA_CODE'))\\\n",
    "                      .withColumn('YEARS_BUILT',(2008-col('BUILD_DATE')))\\\n",
    "                      .withColumn('AGE_CATEGORY', when(col(\"YEARS_BUILT\")<=40,\"MODERN\")\\\n",
    "                            .when((col(\"YEARS_BUILT\")>40) & (col(\"YEARS_BUILT\")<=70),\"MIDDLE-AGE\")\\\n",
    "                            .when((col(\"YEARS_BUILT\")>70),\"OLD\"))\\\n",
    "                      .withColumn('CITY_SIZE', when(col(\"CITY_POPULATION\")<=550000,\"SMALL\")\\\n",
    "                            .when((col(\"CITY_POPULATION\")>550000) & (col(\"CITY_POPULATION\")<=1600000),\"MEDIUM\")\\\n",
    "                            .when((col(\"CITY_POPULATION\")>1600000),\"LARGE\"))\n",
    "DestDF.cache()\n"
   ]
  },
  {
   "cell_type": "code",
   "execution_count": 7,
   "metadata": {},
   "outputs": [
    {
     "name": "stdout",
     "output_type": "stream",
     "text": [
      "+------------+---------------+--------------+--------------+------------+---------------------+\n",
      "|AGE_CATEGORY|Avg_YEARS_BUILT|TOTAL_AIRPORTS|TOTAL_ARRIVALS|Avg_ARRIVALS|ARRIVALS PROPORTION %|\n",
      "+------------+---------------+--------------+--------------+------------+---------------------+\n",
      "|         OLD|           78.8|            32|         43143|      1348.2|                 43.1|\n",
      "|  MIDDLE-AGE|           60.8|            41|         50164|      1223.5|                 50.2|\n",
      "|      MODERN|           21.8|             8|          6693|       836.6|                  6.7|\n",
      "+------------+---------------+--------------+--------------+------------+---------------------+\n",
      "\n"
     ]
    }
   ],
   "source": [
    "oldDF = DestDF.select(col('Dest').alias('AIRPORT'),'BUILD_DATE','YEARS_BUILT','AGE_CATEGORY')\\\n",
    "                  .groupBy('AIRPORT','BUILD_DATE','YEARS_BUILT','AGE_CATEGORY')\\\n",
    "                  .agg(count(lit(1)).alias('ARRIVALS'))\\\n",
    "                  .withColumn('RATIO', round(col('ARRIVALS')/col('YEARS_BUILT'),2))\\\n",
    "                  .orderBy('RATIO',ascending=False)\n",
    "oldDF.cache()\n",
    "\n",
    "oldDF2= oldDF.groupBy('AGE_CATEGORY')\\\n",
    "             .agg(round(avg('YEARS_BUILT'),1).alias('Avg_YEARS_BUILT'),\\\n",
    "                  count(lit(1)).alias('TOTAL_AIRPORTS'),\\\n",
    "                  sum('ARRIVALS').alias('TOTAL_ARRIVALS'),\\\n",
    "                  round(avg('ARRIVALS'),1).alias('Avg_ARRIVALS'))\\\n",
    "             .withColumn('ARRIVALS PROPORTION %', round(col('TOTAL_ARRIVALS')/(sum('TOTAL_ARRIVALS').over(Window.partitionBy()))*100,1))\\\n",
    "             .orderBy('Avg_ARRIVALS',ascending=False)\n",
    "\n",
    "oldDF2.show()"
   ]
  },
  {
   "cell_type": "markdown",
   "metadata": {},
   "source": [
    "An aggregation was conducted on the destination airports from the 2008 US Flights Dataset and three main categories created based on the airport’s-built year:\n",
    "\n",
    "1. OLD: Older than 70 years.\n",
    "2. MIDDLE-AGE: Between 40 and 70 years.\n",
    "3. MODERN: Younger than 40 years.\n",
    "\n",
    "#### Quick observations: \n",
    "- More than 90% of the airports are older than 40 years.\n",
    "- If we only consider the the consider airplane arrivals based upon the AGE CATEGORY, the above table clearly illustrates that the category of MIDDLE-AGE airports cover 50% of the total arrivals.\n",
    "\n",
    "To evaluate the relation between the year an airport was built and the number of flights arriving to it, the team calculated the AVERAGE ARRIVALS for each AGE CATEGORY to deal with the skewness of the number of airports per category:\n",
    "\n",
    "#### Based on this measure we can affirm that there is a direct relation between the age of an airport and its arrivals, whereby:    \n",
    "- The older the airport, the higher the number of arrivals on average per airport: The 32 \"OLD\" airports got on average the highest number of arrivals for 2008 with 1.348 flights per airport. "
   ]
  },
  {
   "cell_type": "markdown",
   "metadata": {},
   "source": [
    "### 2. Are modern airports located mostly in large cities or not necessarily?"
   ]
  },
  {
   "cell_type": "code",
   "execution_count": 8,
   "metadata": {},
   "outputs": [
    {
     "name": "stdout",
     "output_type": "stream",
     "text": [
      "+---------+---------------+------------+\n",
      "|CITY_SIZE|MODERN AIRPORTS|Proportion %|\n",
      "+---------+---------------+------------+\n",
      "|   MEDIUM|              4|        50.0|\n",
      "|    SMALL|              3|        37.5|\n",
      "|    LARGE|              1|        12.5|\n",
      "+---------+---------------+------------+\n",
      "\n",
      "+------------+-----+------+-----+----------------+-----------------+----------------+\n",
      "|AGE_CATEGORY|LARGE|MEDIUM|SMALL|LARGE CITY Prop%|MEDIUM CITY Prop%|SMALL CITY Prop%|\n",
      "+------------+-----+------+-----+----------------+-----------------+----------------+\n",
      "|         OLD|    3|     7|   22|            75.0|             31.8|            40.0|\n",
      "|      MODERN|    1|     4|    3|            25.0|             18.2|             5.5|\n",
      "|  MIDDLE-AGE| null|    11|   30|            null|             50.0|            54.5|\n",
      "+------------+-----+------+-----+----------------+-----------------+----------------+\n",
      "\n"
     ]
    }
   ],
   "source": [
    "popDF = DestDF.groupBy('CITY_SIZE')\\\n",
    "                  .pivot('AGE_CATEGORY')\\\n",
    "                  .agg(countDistinct('Dest'))\\\n",
    "                  .select('CITY_SIZE',col('MODERN').alias('MODERN AIRPORTS'))\\\n",
    "                  .orderBy('MODERN AIRPORTS', ascending = False)\\\n",
    "                  .withColumn('Proportion %', round(col('MODERN AIRPORTS')/(sum('MODERN AIRPORTS').over(Window.partitionBy()))*100,1))\n",
    "popDF.show()\n",
    "\n",
    "popDF2 = DestDF.groupBy('AGE_CATEGORY')\\\n",
    "                  .pivot('CITY_SIZE')\\\n",
    "                  .agg(countDistinct('Dest'))\n",
    "                  \n",
    "popDF2= popDF2.withColumn('LARGE CITY Prop%', round(col('LARGE')/(sum('LARGE').over(Window.partitionBy()))*100,1))\\\n",
    "            .withColumn('MEDIUM CITY Prop%', round(col('MEDIUM')/(sum('MEDIUM').over(Window.partitionBy()))*100,1))\\\n",
    "            .withColumn('SMALL CITY Prop%', round(col('SMALL')/(sum('SMALL').over(Window.partitionBy()))*100,1))\n",
    "\n",
    "popDF2.orderBy(col(\"LARGE CITY Prop%\").desc(),col(\"MEDIUM CITY Prop%\").desc(),col(\"SMALL CITY Prop%\").desc()).show()\n"
   ]
  },
  {
   "cell_type": "markdown",
   "metadata": {},
   "source": [
    "To ascertain whether modern airports are located in large cities, the team aggregated the MODERN AIRPORTS according to the CITY_SIZE category defined as follows:\n",
    "\n",
    "1. SMALL: City population < 550K people.\n",
    "2. MEDIUM: City population between 550K and 1.6M people.\n",
    "3. LARGE: City population >1.6 M people.\n",
    "\n",
    "Quick Observations:\n",
    "\n",
    "-\tThere are only 8 modern airports regardless of CITY_SIZE.\n",
    "-\t77.5 % of MODERN AIRPORTS are in small or medium cities.\n",
    "-\tOnly 1 MODERN airport is in a large city.\n",
    "\n",
    "To further investigate the relationship between the AGE of AIRPORT and the CITY_SIZE, we calculated the proportion of the CITY_SIZE according to the AGE of the Airport.\n",
    "\n",
    "Based on this investigation it can be concluded:\n",
    "\n",
    "-\t#### The United States does not have many “MODERN” airports that are in LARGE cities. Moreover, the larger cities (at least 75 %), typically have “OLD” airports. "
   ]
  },
  {
   "cell_type": "markdown",
   "metadata": {},
   "source": [
    "### 3. Do airports with more terminals have larger delays, or is the opposite true? What about the runways?"
   ]
  },
  {
   "cell_type": "markdown",
   "metadata": {},
   "source": [
    "#### 3.1. Terminal Delays"
   ]
  },
  {
   "cell_type": "code",
   "execution_count": 9,
   "metadata": {},
   "outputs": [
    {
     "name": "stdout",
     "output_type": "stream",
     "text": [
      "+---------+-----------+------------+-----------------------------+------------------------------+\n",
      "|TERMINALS|NUM FLIGHTS|NUM AIRPORTS|AVG FLIGHT DELAY/AIRPORT(Min)|AVG FLIGHT DELAY/TERMINAL(Min)|\n",
      "+---------+-----------+------------+-----------------------------+------------------------------+\n",
      "|        1|      37580|          44|                          4.2|                           4.2|\n",
      "|        2|      38712|          21|                          6.8|                           3.4|\n",
      "|        4|       1929|           2|                         11.9|                           3.0|\n",
      "|        3|      13174|          10|                          6.2|                           2.1|\n",
      "|        9|       3283|           1|                         11.2|                           1.2|\n",
      "|        7|       1678|           1|                          3.0|                           0.4|\n",
      "|        5|       2342|           2|                         -0.6|                          -0.1|\n",
      "+---------+-----------+------------+-----------------------------+------------------------------+\n",
      "\n"
     ]
    }
   ],
   "source": [
    "TerminalDF=DestDF.where(col(\"ArrDelay\")!=\"NA\")\\\n",
    "              .where(col(\"Cancelled\")==0)\\\n",
    "              .groupBy('TERMINALS')\\\n",
    "              .agg(count(lit(1)).alias(\"NUM FLIGHTS\"),\\\n",
    "                   countDistinct('DEST').alias('NUM AIRPORTS'),\\\n",
    "                  round(avg(\"ArrDelay\"),1).alias(\"AVG FLIGHT DELAY/AIRPORT(Min)\")) \n",
    "TerminalDF.cache()\n",
    "\n",
    "TerminalDF=TerminalDF.withColumn('AVG FLIGHT DELAY/TERMINAL(Min)', round(col('AVG FLIGHT DELAY/AIRPORT(Min)')/col('TERMINALS'),1))\\\n",
    "          .orderBy(col('AVG FLIGHT DELAY/TERMINAL(Min)').desc())\n",
    "TerminalDF.show()"
   ]
  },
  {
   "cell_type": "markdown",
   "metadata": {},
   "source": [
    "#### To answer this question is important to understand the definition of terminals, concourses and gates:\n",
    "\n",
    "\"A concourse is that part of a Terminal where Aircraft park at Gates to exchange Passengers. A Terminal may have more than one Concourse. A Concourse may have more than one Gate.\" -  [Terminals by FAA](https://www.faa.gov/)\n",
    "\n",
    "\n",
    "#### Quick observations: \n",
    "- As expected, airports with only 1 terminal have the highest delays on average.\n",
    "- The 2 airports with 5 Terminals were the most operationally efficient in 2008 according to average flight delays per terminal with a significant number of flights (over 2.000).\n",
    "\n",
    "In order to explore whether or not airports with more terminals have larger delays, the airports were aggregated by their number of terminals and calculated in turn, the AVERAGE FLIGHT DELAY per AIRPORT, was calculated as well as  the AVERAGE DELAY per TERMINAL: \n",
    "\n",
    "#### Based on these measures a trend could be seen, whereby the smaller the number of terminals the larger the delay per terminal:\n",
    "\n",
    "However, we have some exceptions for two airports with 5 terminals, which have no delays. Also, there are two additional airports with 9 and 7 terminals, respectively, do not follow the trend with delays of 1.2 & .4 mins delay per terminal.\n",
    "\n",
    "Thus, it is suggested to further delve into the analysis with different measures such as number of gates as they are a more indicative measure to better explore the traffic and delays in the airport (when conducting  research, it was found that some of the largest airports in the US have one terminal but with many concourses and gates)."
   ]
  },
  {
   "cell_type": "markdown",
   "metadata": {},
   "source": [
    "#### 3.2. Runway Delays"
   ]
  },
  {
   "cell_type": "code",
   "execution_count": 10,
   "metadata": {},
   "outputs": [
    {
     "name": "stdout",
     "output_type": "stream",
     "text": [
      "+-------+-----------+------------+-----------------------------+----------------------------+\n",
      "|RUNWAYS|NUM FLIGHTS|NUM AIRPORTS|AVG FLIGHT DELAY/AIRPORT(Min)|AVG FLIGHT DELAY/RUNWAY(Min)|\n",
      "+-------+-----------+------------+-----------------------------+----------------------------+\n",
      "|      1|       3556|           3|                          9.0|                         9.0|\n",
      "|      2|      25026|          29|                          5.6|                         2.8|\n",
      "|      4|      31074|          14|                          7.1|                         1.8|\n",
      "|      3|      30779|          30|                          4.4|                         1.5|\n",
      "|      5|       6117|           3|                          4.6|                         0.9|\n",
      "|      6|       2146|           2|                          4.7|                         0.8|\n",
      "+-------+-----------+------------+-----------------------------+----------------------------+\n",
      "\n"
     ]
    }
   ],
   "source": [
    "RunwayDF=DestDF.where(col(\"ArrDelay\")!=\"NA\")\\\n",
    "              .where(col(\"Cancelled\")==0)\\\n",
    "              .groupBy('RUNWAYS')\\\n",
    "              .agg(count(lit(1)).alias(\"NUM FLIGHTS\"),\\\n",
    "                   countDistinct('Dest').alias('NUM AIRPORTS'),\\\n",
    "                  round(avg(\"ArrDelay\"),1).alias(\"AVG FLIGHT DELAY/AIRPORT(Min)\")) \n",
    "RunwayDF.cache()\n",
    "\n",
    "RunwayDF=RunwayDF.withColumn('AVG FLIGHT DELAY/RUNWAY(Min)', round(col('AVG FLIGHT DELAY/AIRPORT(Min)')/col('RUNWAYS'),1))\\\n",
    "          .orderBy(col('AVG FLIGHT DELAY/RUNWAY(Min)').desc())\n",
    "RunwayDF.show()"
   ]
  },
  {
   "cell_type": "markdown",
   "metadata": {},
   "source": [
    "Using the previous approximation, we also investigated if airports containing more RUNWAYS have larger delays.\n",
    "\n",
    "#### Quick observations: \n",
    "\n",
    "- The 2 airports with 5 Terminals were the most operationally efficient in 2008 according to average flight delays per terminal with a significant number of flights (over 2.000)\n",
    "\n",
    "Airports were aggregated by the number of runways and in turn AVERAGE FLIGHT DELAY per AIRPORT and t AVERAGE DELAY per RUNWAY were calculated: \n",
    "\n",
    "#### Based on these measures a trend was observed whereby the larger the number of runways the smaller the delay:\n",
    "- As expected, airports with only 1 Runway have the highest delays on average.\n",
    "- There is a trend between the number of runways and the operational efficiency of the airport. However, it is observed that there is an exception for airports with 3 runways: They have the lowest ratio for Average Flight Delay per Airport (4.4). As such a conclusion is drawn whereby it would be better to include more explanatory variables (factors) that could impact the delays for future analysis."
   ]
  },
  {
   "cell_type": "markdown",
   "metadata": {},
   "source": [
    "### 4. Is there any threshold in the average arriving flights per terminal, so that above that value the delays tend to increase a lot?"
   ]
  },
  {
   "cell_type": "code",
   "execution_count": 11,
   "metadata": {
    "scrolled": false
   },
   "outputs": [
    {
     "name": "stdout",
     "output_type": "stream",
     "text": [
      "+-------+---------+-----------+----------------+-------------------------+\n",
      "|AIRPORT|TERMINALS|NUM FLIGHTS|AVG FLIGHTS/TERM|AVG FLIGHT DELAY/TERMINAL|\n",
      "+-------+---------+-----------+----------------+-------------------------+\n",
      "|    SAV|        1|          1|             1.0|                     31.0|\n",
      "|    GSO|        1|          2|             2.0|                     27.0|\n",
      "|    ROC|        1|          1|             1.0|                     24.0|\n",
      "|    MYR|        1|          1|             1.0|                     18.0|\n",
      "|    RIC|        1|          1|             1.0|                     13.0|\n",
      "|    BOI|        1|        637|           637.0|                     10.0|\n",
      "|    EUG|        1|         26|            26.0|                      9.3|\n",
      "|    BFL|        2|         60|            30.0|                      9.0|\n",
      "|    MAF|        1|        316|           316.0|                      8.9|\n",
      "|    SFO|        4|        698|           174.5|                      8.7|\n",
      "+-------+---------+-----------+----------------+-------------------------+\n",
      "only showing top 10 rows\n",
      "\n",
      "Linear Correlation Average Flight per Terminal vs Average Delay per Terminal\n",
      "+-----------+\n",
      "|Correlation|\n",
      "+-----------+\n",
      "|      -0.12|\n",
      "+-----------+\n",
      "\n",
      "+---------+------------+-----------+----------------+------------------------------+\n",
      "|TERMINALS|NUM AIRPORTS|NUM FLIGHTS|AVG FLIGHTS/TERM|AVG FLIGHT DELAY/TERMINAL(Min)|\n",
      "+---------+------------+-----------+----------------+------------------------------+\n",
      "|        5|           2|       2342|           234.2|                          -0.1|\n",
      "|        7|           1|       1678|           239.7|                           0.4|\n",
      "|        4|           2|       1929|           241.1|                           3.0|\n",
      "|        9|           1|       3283|           364.8|                           1.2|\n",
      "|        3|          10|      13174|           439.1|                           2.1|\n",
      "|        1|          44|      37580|           854.1|                           4.2|\n",
      "|        2|          21|      38712|           921.7|                           3.4|\n",
      "+---------+------------+-----------+----------------+------------------------------+\n",
      "\n",
      "Linear Correlation Average Flight per Terminal vs Average Delay per Terminal\n",
      "+-----------+\n",
      "|Correlation|\n",
      "+-----------+\n",
      "|       0.77|\n",
      "+-----------+\n",
      "\n"
     ]
    }
   ],
   "source": [
    "ThresholdDF=DestDF.where(col(\"ArrDelay\")!=\"NA\")\\\n",
    "                  .where(col(\"Cancelled\")==0)\\\n",
    "                  .select(col('Dest').alias('AIRPORT'),'TERMINALS','ArrDelay')\\\n",
    "                  .groupBy('AIRPORT','TERMINALS')\\\n",
    "                  .agg(count(lit(1)).alias('NUM FLIGHTS'),\\\n",
    "                       round((count(lit(1))/col('TERMINALS')),1).alias('AVG FLIGHTS/TERM'),\\\n",
    "                       round(avg('ArrDelay')/col('TERMINALS'),1).alias('AVG FLIGHT DELAY/TERMINAL'))\\\n",
    "                  .orderBy(col('AVG FLIGHT DELAY/TERMINAL').desc(),col('AVG FLIGHTS/TERM').asc())\n",
    "\n",
    "ThresholdDF.cache()\n",
    "ThresholdDF.show(10)\n",
    "\n",
    "print(\"Linear Correlation Average Flight per Terminal vs Average Delay per Terminal\")\n",
    "ThresholdDF.select(round(corr(col(\"AVG FLIGHT DELAY/TERMINAL\"),col(\"AVG FLIGHTS/TERM\")),2).alias(\"Correlation\")).show()\n",
    "\n",
    "TermDF=TerminalDF.withColumn('AVG FLIGHTS/TERM', round(col('NUM FLIGHTS')/(col('TERMINALS')*col('NUM AIRPORTS')),1))\\\n",
    "          .select('TERMINALS','NUM AIRPORTS','NUM FLIGHTS', 'AVG FLIGHTS/TERM', 'AVG FLIGHT DELAY/TERMINAL(Min)')\\\n",
    "          .orderBy(col('AVG FLIGHTS/TERM').asc())\n",
    "\n",
    "TermDF.show()\n",
    "print(\"Linear Correlation Average Flight per Terminal vs Average Delay per Terminal\")\n",
    "TermDF.select(round(corr(col(\"AVG FLIGHT DELAY/TERMINAL(Min)\"),col(\"AVG FLIGHTS/TERM\")),2).alias(\"Correlation\")).show()\n"
   ]
  },
  {
   "cell_type": "markdown",
   "metadata": {},
   "source": [
    "To identify if there is a threshold in the average arriving flights per terminal, the team again calculated  the AVG FLIGHTS per TERMINAL to compare it with the AVG FLIGHT DELAY per TERMINAL. \n",
    "\n",
    "#### Quick observations: \n",
    "\n",
    "Analyzing the airports individually, there is no linear relation between the Average Flight per Terminal and the Average Delay per Terminal: the relationship between both is random (statistically with a correlation value close to 0). Under this condition, it was not possible to identify a threshold at any level. \n",
    "\n",
    "The team aggregated the airports by their number of terminals trying to detect better patterns:\n",
    "\n",
    "- The airports with the lowest average number of flights per terminal (234) have no delays, but the airports with the highest average flight delays (4.2) are not the one with the highest average flights per terminal (854). \n",
    "- Even though there is a linear dependency between them (positive correlation value close to 1), there are still other explanatory variables that should be analyzed to avoid this random behavior (as mentioned before: number of gates because could be more indicative). \n",
    "- There is no obvious threshold of average number of flights where above it delays starts to increase per terminal.\n",
    "\n",
    "#### Based on this measure a threshold for average number of flights per terminal where above it the average flight delay per terminal increases, cannot definitively be identified \n",
    "\n",
    "\n"
   ]
  },
  {
   "cell_type": "markdown",
   "metadata": {},
   "source": [
    "### 5. Discretize the arrival delay as in the reference notebook, and relate it to the average number of arriving flights per runway. Is there a relation? Support your conclusions with data."
   ]
  },
  {
   "cell_type": "code",
   "execution_count": 12,
   "metadata": {},
   "outputs": [
    {
     "name": "stdout",
     "output_type": "stream",
     "text": [
      "Runways with % severe delayed flights by category:\n",
      "+-------+------------------+---------------------+--------------+-----------+----------+\n",
      "|RUNWAYS|AVG FLIGHTS/RUNWAY|Total Severe Delays %|5.unacceptable|4.impactful|3.annoying|\n",
      "+-------+------------------+---------------------+--------------+-----------+----------+\n",
      "|      6|             178.8|                 19.3|           4.8|        5.7|       8.8|\n",
      "|      3|             342.0|                 17.4|           4.1|        5.6|       7.7|\n",
      "|      5|             407.8|                 16.6|           4.8|        5.3|       6.5|\n",
      "|      2|             431.5|                 18.3|           4.1|        6.0|       8.2|\n",
      "|      4|             554.9|                 20.5|           5.4|        6.5|       8.6|\n",
      "|      1|            1185.3|                 22.7|           5.9|        7.7|       9.1|\n",
      "+-------+------------------+---------------------+--------------+-----------+----------+\n",
      "\n"
     ]
    }
   ],
   "source": [
    "RunDF=RunwayDF.withColumn('AVG FLIGHTS/RUNWAY', round(col('NUM FLIGHTS')/(col('RUNWAYS')*col('NUM AIRPORTS')),1))\\\n",
    "          .select('RUNWAYS','NUM AIRPORTS','NUM FLIGHTS', 'AVG FLIGHTS/RUNWAY', 'AVG FLIGHT DELAY/RUNWAY(Min)')\\\n",
    "          .orderBy(col('AVG FLIGHTS/RUNWAY').asc())\n",
    "\n",
    "TotalFlightsDF = DestDF.groupBy(\"RUNWAYS\").agg(count(\"ArrDelay\").alias(\"TotalFlights\"))\n",
    "\n",
    "DelayDF = DestDF.where(col(\"ArrDelay\")!=\"NA\")\\\n",
    "                               .withColumn(\"DelaySeverity\", when(col(\"ArrDelay\")<=0,\"1.nodelay\")\\\n",
    "                               .when((col(\"ArrDelay\")>0) & (col(\"ArrDelay\")<=15),\"2.acceptable\")\\\n",
    "                               .when((col(\"ArrDelay\")>15) & (col(\"ArrDelay\")<=30),\"3.annoying\")\\\n",
    "                               .when((col(\"ArrDelay\")>30) & (col(\"ArrDelay\")<=60),\"4.impactful\")\\\n",
    "                               .otherwise(\"5.unacceptable\"))\n",
    "\n",
    "DelayDF.cache() \n",
    "\n",
    "SevereDelaysDF = DelayDF.where((col(\"Cancelled\")==0))\\\n",
    "                           .where((col(\"DelaySeverity\")!=\"1.nodelay\") & (col(\"DelaySeverity\")!=\"2.acceptable\"))\\\n",
    "                           .withColumn(\"IntArrDelay\", col(\"ArrDelay\").cast(IntegerType()))\\\n",
    "                           .select(\"DelaySeverity\", \"IntArrDelay\",\"RUNWAYS\")\\\n",
    "                           .groupBy(\"RUNWAYS\", \"DelaySeverity\")\\\n",
    "                           .agg(count(\"IntArrDelay\").alias(\"NumSevereDelayedFlights\"))\n",
    "\n",
    "combinedDF = SevereDelaysDF.join(TotalFlightsDF, \"RUNWAYS\")\\\n",
    "                             .withColumn(\"SevereDelayedRatio\", round(col(\"NumSevereDelayedFlights\")/col(\"TotalFlights\")*100,1))\\\n",
    "                             .orderBy(col(\"SevereDelayedRatio\").desc())\n",
    "combinedDF.cache()\n",
    "\n",
    "\n",
    "combinedDF=combinedDF.groupBy(\"RUNWAYS\")\\\n",
    "          .pivot(\"DelaySeverity\")\\\n",
    "          .min(\"SevereDelayedRatio\")\\\n",
    "          .orderBy(col(\"`5.unacceptable`\").desc(), col(\"`4.impactful`\").desc(), col(\"`3.annoying`\").desc())\n",
    "\n",
    "FinalDF= RunDF.join(combinedDF,\"RUNWAYS\")\\\n",
    "              .withColumn(\"Total Severe Delays %\", round(col(\"`5.unacceptable`\")+col(\"`4.impactful`\")+col(\"`3.annoying`\"),1))\\\n",
    "              .select('RUNWAYS', 'AVG FLIGHTS/RUNWAY',\"Total Severe Delays %\",\"`5.unacceptable`\",\"`4.impactful`\",\"`3.annoying`\")\\\n",
    "              .orderBy(col('AVG FLIGHTS/RUNWAY').asc())\n",
    "\n",
    "print(\"Runways with % severe delayed flights by category:\")\n",
    "FinalDF.show()\n"
   ]
  },
  {
   "cell_type": "markdown",
   "metadata": {},
   "source": [
    "In general terms, any busy airport with 1-2 runways has to make those runways run as operationally efficient as possible with little room for error. Otherwise they end up with delays.  These delays can be severe or acceptable depending on the US FAA standards.\n",
    "\n",
    "For this analysis the compared the average number of arriving flights per runway with a classification of the arrivals delay as follows:\n",
    "\n",
    "1. No Delay: Delay < 0 minutes. \n",
    "2. Acceptable: Delay between 0 and 15 minutes.\n",
    "3. Annoying: Delay between 15 and 30 minutes.\n",
    "4. Impactful: Delay between 30 and 60 minutes.\n",
    "5. Unacceptable: Delay > 60 minutes.\n",
    "\n",
    "The last three catagories are considered \"Severe Delays\" and the team focused on understanding the behavior of this macro-category for the airports grouped by the number of runways:\n",
    "\n",
    "\n",
    " \n",
    "Based on this investigation we can conclude:\n",
    "\n",
    "#### In general the airports with the highest average number of flights per runway have more severe delays:\n",
    "\n",
    "- The airports with the highest average flights per runway (1185) have the highest delays (23 mins).\n",
    "- There is a clear exception to this statement for the airports with 6 runways whereby, those that have the lowest average number of flights (179) still have a high delay (19 mins in total)."
   ]
  },
  {
   "cell_type": "markdown",
   "metadata": {},
   "source": [
    "### Sources:"
   ]
  },
  {
   "cell_type": "markdown",
   "metadata": {},
   "source": [
    "- https://www.faa.gov/airports/airport_safety/airportdata_5010/\n",
    "- https://aci.aero/data-centre\n",
    "- https://www.citypopulation.de/en/usa/states/admin/\n"
   ]
  }
 ],
 "metadata": {
  "hide_input": false,
  "kernelspec": {
   "display_name": "Python 3",
   "language": "python",
   "name": "python3"
  },
  "language_info": {
   "codemirror_mode": {
    "name": "ipython",
    "version": 3
   },
   "file_extension": ".py",
   "mimetype": "text/x-python",
   "name": "python",
   "nbconvert_exporter": "python",
   "pygments_lexer": "ipython3",
   "version": "3.7.3"
  },
  "toc": {
   "base_numbering": 1,
   "nav_menu": {},
   "number_sections": true,
   "sideBar": true,
   "skip_h1_title": false,
   "title_cell": "Table of Contents",
   "title_sidebar": "Contents",
   "toc_cell": false,
   "toc_position": {},
   "toc_section_display": true,
   "toc_window_display": false
  },
  "varInspector": {
   "cols": {
    "lenName": 16,
    "lenType": 16,
    "lenVar": 40
   },
   "kernels_config": {
    "python": {
     "delete_cmd_postfix": "",
     "delete_cmd_prefix": "del ",
     "library": "var_list.py",
     "varRefreshCmd": "print(var_dic_list())"
    },
    "r": {
     "delete_cmd_postfix": ") ",
     "delete_cmd_prefix": "rm(",
     "library": "var_list.r",
     "varRefreshCmd": "cat(var_dic_list()) "
    }
   },
   "types_to_exclude": [
    "module",
    "function",
    "builtin_function_or_method",
    "instance",
    "_Feature"
   ],
   "window_display": false
  }
 },
 "nbformat": 4,
 "nbformat_minor": 2
}
